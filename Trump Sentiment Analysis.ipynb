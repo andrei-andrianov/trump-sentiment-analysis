{
 "cells": [
  {
   "cell_type": "markdown",
   "metadata": {},
   "source": [
    "# Donald Trump's tweets sentiment analysis and correlation with approval ratings"
   ]
  },
  {
   "cell_type": "markdown",
   "metadata": {},
   "source": [
    "This research consists of three parts:\n",
    "1. Obtain dataset for Trump's tweets between 18/12/2018 and 22/2/2019\n",
    "2. Obtain dataset for Trump's tweets within a period of 7 days (14/3/2019 and 21/3/2019)\n",
    "3. Obtain tweets that mention him between 14/3/2019 and 21/3/2019 (1000 tweets each day)"
   ]
  },
  {
   "cell_type": "markdown",
   "metadata": {},
   "source": [
    "# Research Question 1\n",
    "\n",
    "1. Does the sentiment intensity of Trump’s tweets for the specific period in time correlate with approval rating changes: Is there a correlation between negative/positive tweets and corresponding fluctuations in approval rating?"
   ]
  },
  {
   "cell_type": "markdown",
   "metadata": {},
   "source": [
    "## 1.1 Imports and API initialization"
   ]
  },
  {
   "cell_type": "code",
   "execution_count": 1,
   "metadata": {},
   "outputs": [],
   "source": [
    "import tweepy\n",
    "from vaderSentiment.vaderSentiment import SentimentIntensityAnalyzer\n",
    "import pandas as pd\n",
    "import matplotlib.pyplot as plt\n",
    "import seaborn as sns\n",
    "sns.set(style='whitegrid', palette='Set2', font_scale=1.4, rc={\"figure.figsize\": [12, 8]})\n",
    "import numpy as np\n",
    "import datetime, json, logging, os, re, math\n",
    "import preprocessor as pre\n",
    "from nltk.corpus import stopwords\n",
    "stop_words = set(stopwords.words('english'))\n",
    "from nltk import word_tokenize\n",
    "import spacy, en_core_web_sm\n",
    "nlp = en_core_web_sm.load()\n",
    "from collections import Counter"
   ]
  },
  {
   "cell_type": "code",
   "execution_count": 3,
   "metadata": {},
   "outputs": [],
   "source": [
    "logging.basicConfig(filename='logfile.log', level=logging.DEBUG, \n",
    "                    format='%(asctime)s - %(name)s - %(levelname)s - %(message)s')\n",
    "\n",
    "name = 'realDonaldTrump'\n",
    "\n",
    "# dates range to collect tweets\n",
    "start_date = datetime.datetime(2018, 12, 18, 0, 0, 0)\n",
    "end_date = datetime.datetime(2019, 2, 22, 0, 0, 0)\n",
    "\n",
    "consumer_key = ''\n",
    "consumer_secret = ''\n",
    "\n",
    "oauth_token = ''\n",
    "oauth_token_secret = ''\n",
    "\n",
    "auth = tweepy.OAuthHandler(consumer_key, consumer_secret)\n",
    "auth.set_access_token(oauth_token, oauth_token_secret)\n",
    "\n",
    "# the are rate limits for the frequency of API calls for twitter, \n",
    "# wait_on_rate_limit flag helps us not to worry about it while collecting the data\n",
    "api = tweepy.API(auth, wait_on_rate_limit=True, wait_on_rate_limit_notify=True)"
   ]
  },
  {
   "cell_type": "code",
   "execution_count": null,
   "metadata": {},
   "outputs": [],
   "source": [
    "print(api.me().name)"
   ]
  },
  {
   "cell_type": "markdown",
   "metadata": {},
   "source": [
    "## 1.2 Tweets collection\n",
    "\n",
    "Now we collect Trump's tweets from the specified date range. If already collected, read from file."
   ]
  },
  {
   "cell_type": "code",
   "execution_count": 5,
   "metadata": {},
   "outputs": [],
   "source": [
    "def collect_tweets(tweets, file):\n",
    "    \"\"\"\n",
    "    collect all tweets for the specified account and time range,\n",
    "    save results to file\n",
    "    \n",
    "    \"\"\"\n",
    "    tweets_temp = api.user_timeline(\n",
    "        screen_name=name,\n",
    "        count=200,\n",
    "        include_rts='false',\n",
    "        tweet_mode='extended')\n",
    "    for tweet in tweets_temp:\n",
    "        if tweet.created_at < end_date and tweet.created_at > start_date:\n",
    "            tweets.append(tweet._json)\n",
    "\n",
    "    while (tweets_temp[-1].created_at > start_date):\n",
    "        tweets_temp = api.user_timeline(\n",
    "            screen_name=name,\n",
    "            count=200,\n",
    "            max_id=tweets_temp[-1].id,\n",
    "            include_rts='false',\n",
    "            tweet_mode='extended')\n",
    "        for tweet in tweets_temp:\n",
    "            if tweet.created_at < end_date and tweet.created_at > start_date:\n",
    "                tweets.append(tweet._json)\n",
    "\n",
    "    json.dump(tweets, file, indent=2)"
   ]
  },
  {
   "cell_type": "code",
   "execution_count": 6,
   "metadata": {},
   "outputs": [
    {
     "name": "stdout",
     "output_type": "stream",
     "text": [
      "Wall time: 18.6 ms\n"
     ]
    }
   ],
   "source": [
    "%%time\n",
    "if os.path.isfile('trump_tweets.json') and not os.stat('trump_tweets.json').st_size == 0:\n",
    "    logging.info('File trump_tweets.json already exists! Reading the file..')\n",
    "    file = open('trump_tweets.json', 'r', encoding='utf8')\n",
    "    tweets = json.load(file)\n",
    "    file.close()\n",
    "else:\n",
    "    logging.info('Creating trump_tweets.json, collecting tweets..')\n",
    "    file = open('trump_tweets.json', 'w', encoding='utf8')\n",
    "    tweets = []\n",
    "    collect_tweets(tweets, file)\n",
    "    file.close()"
   ]
  },
  {
   "cell_type": "markdown",
   "metadata": {},
   "source": [
    "Create dataframe to store and process the data "
   ]
  },
  {
   "cell_type": "code",
   "execution_count": 7,
   "metadata": {},
   "outputs": [
    {
     "data": {
      "text/html": [
       "<div>\n",
       "<style scoped>\n",
       "    .dataframe tbody tr th:only-of-type {\n",
       "        vertical-align: middle;\n",
       "    }\n",
       "\n",
       "    .dataframe tbody tr th {\n",
       "        vertical-align: top;\n",
       "    }\n",
       "\n",
       "    .dataframe thead th {\n",
       "        text-align: right;\n",
       "    }\n",
       "</style>\n",
       "<table border=\"1\" class=\"dataframe\">\n",
       "  <thead>\n",
       "    <tr style=\"text-align: right;\">\n",
       "      <th></th>\n",
       "      <th>Text</th>\n",
       "    </tr>\n",
       "  </thead>\n",
       "  <tbody>\n",
       "    <tr>\n",
       "      <th>0</th>\n",
       "      <td>Senator John Cornyn has done an outstanding jo...</td>\n",
       "    </tr>\n",
       "    <tr>\n",
       "      <th>1</th>\n",
       "      <td>.@JussieSmollett - what about MAGA and the ten...</td>\n",
       "    </tr>\n",
       "    <tr>\n",
       "      <th>2</th>\n",
       "      <td>THE WALL IS UNDER CONSTRUCTION RIGHT NOW! http...</td>\n",
       "    </tr>\n",
       "    <tr>\n",
       "      <th>3</th>\n",
       "      <td>....something that is so obviously the future....</td>\n",
       "    </tr>\n",
       "    <tr>\n",
       "      <th>4</th>\n",
       "      <td>I want 5G, and even 6G, technology in the Unit...</td>\n",
       "    </tr>\n",
       "    <tr>\n",
       "      <th>5</th>\n",
       "      <td>I have instructed Secretary of State Mike Pomp...</td>\n",
       "    </tr>\n",
       "    <tr>\n",
       "      <th>6</th>\n",
       "      <td>We have just built this powerful Wall in New M...</td>\n",
       "    </tr>\n",
       "    <tr>\n",
       "      <th>7</th>\n",
       "      <td>California now wants to scale back their alrea...</td>\n",
       "    </tr>\n",
       "    <tr>\n",
       "      <th>8</th>\n",
       "      <td>The New York Times reporting is false. They ar...</td>\n",
       "    </tr>\n",
       "    <tr>\n",
       "      <th>9</th>\n",
       "      <td>“If thinking that James Comey is not a good FB...</td>\n",
       "    </tr>\n",
       "  </tbody>\n",
       "</table>\n",
       "</div>"
      ],
      "text/plain": [
       "                                                Text\n",
       "0  Senator John Cornyn has done an outstanding jo...\n",
       "1  .@JussieSmollett - what about MAGA and the ten...\n",
       "2  THE WALL IS UNDER CONSTRUCTION RIGHT NOW! http...\n",
       "3  ....something that is so obviously the future....\n",
       "4  I want 5G, and even 6G, technology in the Unit...\n",
       "5  I have instructed Secretary of State Mike Pomp...\n",
       "6  We have just built this powerful Wall in New M...\n",
       "7  California now wants to scale back their alrea...\n",
       "8  The New York Times reporting is false. They ar...\n",
       "9  “If thinking that James Comey is not a good FB..."
      ]
     },
     "execution_count": 7,
     "metadata": {},
     "output_type": "execute_result"
    }
   ],
   "source": [
    "df = pd.DataFrame(data=[tweet['full_text'] for tweet in tweets], columns=['Text'])\n",
    "df.head(10)"
   ]
  },
  {
   "cell_type": "markdown",
   "metadata": {},
   "source": [
    "Let's see what attributes available for each tweet object looks like"
   ]
  },
  {
   "cell_type": "code",
   "execution_count": 8,
   "metadata": {},
   "outputs": [
    {
     "name": "stdout",
     "output_type": "stream",
     "text": [
      "id: 1098676390780719104\n",
      "date: Thu Feb 21 20:10:38 +0000 2019\n",
      "likes: 101024\n",
      "retweets: 21110\n",
      "{'hashtags': [], 'symbols': [], 'user_mentions': [], 'urls': []}\n"
     ]
    }
   ],
   "source": [
    "print('id:',tweets[0]['id'])\n",
    "print('date:',tweets[0]['created_at'])\n",
    "print('likes:',tweets[0]['favorite_count'])\n",
    "print('retweets:',tweets[0]['retweet_count'])\n",
    "print(tweets[0]['entities'])"
   ]
  },
  {
   "cell_type": "markdown",
   "metadata": {},
   "source": [
    "Now let's add interesting attributes to the dataframe"
   ]
  },
  {
   "cell_type": "code",
   "execution_count": 9,
   "metadata": {},
   "outputs": [
    {
     "data": {
      "text/html": [
       "<div>\n",
       "<style scoped>\n",
       "    .dataframe tbody tr th:only-of-type {\n",
       "        vertical-align: middle;\n",
       "    }\n",
       "\n",
       "    .dataframe tbody tr th {\n",
       "        vertical-align: top;\n",
       "    }\n",
       "\n",
       "    .dataframe thead th {\n",
       "        text-align: right;\n",
       "    }\n",
       "</style>\n",
       "<table border=\"1\" class=\"dataframe\">\n",
       "  <thead>\n",
       "    <tr style=\"text-align: right;\">\n",
       "      <th></th>\n",
       "      <th>Text</th>\n",
       "      <th>len</th>\n",
       "      <th>id</th>\n",
       "      <th>Date</th>\n",
       "      <th>Likes</th>\n",
       "      <th>RTs</th>\n",
       "    </tr>\n",
       "  </thead>\n",
       "  <tbody>\n",
       "    <tr>\n",
       "      <th>0</th>\n",
       "      <td>Senator John Cornyn has done an outstanding jo...</td>\n",
       "      <td>231</td>\n",
       "      <td>1098676390780719104</td>\n",
       "      <td>2019-02-21 00:00:00+00:00</td>\n",
       "      <td>101024</td>\n",
       "      <td>21110</td>\n",
       "    </tr>\n",
       "    <tr>\n",
       "      <th>1</th>\n",
       "      <td>.@JussieSmollett - what about MAGA and the ten...</td>\n",
       "      <td>130</td>\n",
       "      <td>1098615818512941057</td>\n",
       "      <td>2019-02-21 00:00:00+00:00</td>\n",
       "      <td>222426</td>\n",
       "      <td>56149</td>\n",
       "    </tr>\n",
       "    <tr>\n",
       "      <th>2</th>\n",
       "      <td>THE WALL IS UNDER CONSTRUCTION RIGHT NOW! http...</td>\n",
       "      <td>65</td>\n",
       "      <td>1098587583469228037</td>\n",
       "      <td>2019-02-21 00:00:00+00:00</td>\n",
       "      <td>134130</td>\n",
       "      <td>31597</td>\n",
       "    </tr>\n",
       "    <tr>\n",
       "      <th>3</th>\n",
       "      <td>....something that is so obviously the future....</td>\n",
       "      <td>274</td>\n",
       "      <td>1098583029713420288</td>\n",
       "      <td>2019-02-21 00:00:00+00:00</td>\n",
       "      <td>125867</td>\n",
       "      <td>23394</td>\n",
       "    </tr>\n",
       "    <tr>\n",
       "      <th>4</th>\n",
       "      <td>I want 5G, and even 6G, technology in the Unit...</td>\n",
       "      <td>279</td>\n",
       "      <td>1098581869233344512</td>\n",
       "      <td>2019-02-21 00:00:00+00:00</td>\n",
       "      <td>143746</td>\n",
       "      <td>28589</td>\n",
       "    </tr>\n",
       "  </tbody>\n",
       "</table>\n",
       "</div>"
      ],
      "text/plain": [
       "                                                Text  len  \\\n",
       "0  Senator John Cornyn has done an outstanding jo...  231   \n",
       "1  .@JussieSmollett - what about MAGA and the ten...  130   \n",
       "2  THE WALL IS UNDER CONSTRUCTION RIGHT NOW! http...   65   \n",
       "3  ....something that is so obviously the future....  274   \n",
       "4  I want 5G, and even 6G, technology in the Unit...  279   \n",
       "\n",
       "                    id                      Date   Likes    RTs  \n",
       "0  1098676390780719104 2019-02-21 00:00:00+00:00  101024  21110  \n",
       "1  1098615818512941057 2019-02-21 00:00:00+00:00  222426  56149  \n",
       "2  1098587583469228037 2019-02-21 00:00:00+00:00  134130  31597  \n",
       "3  1098583029713420288 2019-02-21 00:00:00+00:00  125867  23394  \n",
       "4  1098581869233344512 2019-02-21 00:00:00+00:00  143746  28589  "
      ]
     },
     "execution_count": 9,
     "metadata": {},
     "output_type": "execute_result"
    }
   ],
   "source": [
    "df['len'] = np.array([len(tweet['full_text']) for tweet in tweets])\n",
    "df['id'] = np.array([tweet['id'] for tweet in tweets])\n",
    "df['Date'] = pd.DatetimeIndex(pd.to_datetime([tweet['created_at'] for tweet in tweets])).normalize()\n",
    "df['Likes'] = np.array([tweet['favorite_count'] for tweet in tweets])\n",
    "df['RTs'] = np.array([tweet['retweet_count'] for tweet in tweets])\n",
    "df.head()"
   ]
  },
  {
   "cell_type": "code",
   "execution_count": 10,
   "metadata": {},
   "outputs": [
    {
     "data": {
      "text/plain": [
       "(Timestamp('2018-12-18 00:00:00+0000', tz='UTC'),\n",
       " Timestamp('2019-02-21 00:00:00+0000', tz='UTC'))"
      ]
     },
     "execution_count": 10,
     "metadata": {},
     "output_type": "execute_result"
    }
   ],
   "source": [
    "min(df.Date), max(df.Date)"
   ]
  },
  {
   "cell_type": "code",
   "execution_count": 11,
   "metadata": {},
   "outputs": [
    {
     "data": {
      "text/plain": [
       "(561, 6)"
      ]
     },
     "execution_count": 11,
     "metadata": {},
     "output_type": "execute_result"
    }
   ],
   "source": [
    "df.shape"
   ]
  },
  {
   "cell_type": "markdown",
   "metadata": {},
   "source": [
    "## 1.3 Natural Language Processing"
   ]
  },
  {
   "cell_type": "markdown",
   "metadata": {},
   "source": [
    "### 1.3.1 Data preprocessing\n",
    "\n",
    "Now lets do some preprocessing to prepare it for the entities extraction"
   ]
  },
  {
   "cell_type": "code",
   "execution_count": 12,
   "metadata": {},
   "outputs": [],
   "source": [
    "# remove @user mentions, # hashtag symbol, URLs, emoji etc.\n",
    "# check the package documentation for info\n",
    "# pre.set_options(pre.OPT.URL, pre.OPT.EMOJI, pre.OPT.MENTION, pre.OPT.RESERVED, pre.OPT.SMILEY, pre.OPT.NUMBER)\n",
    "text_processed = df['Text'].apply(lambda s: pre.clean(s))\n",
    "\n",
    "# removing all non alpha-numeric symbols\n",
    "text_processed = text_processed.apply(lambda s: re.sub(r'[^A-Za-z0-9 ]', '', s))\n",
    "\n",
    "# removing stop words\n",
    "text_processed = text_processed.apply(\n",
    "    lambda s: ' '.join(word for word in s.split() if word not in stop_words))\n"
   ]
  },
  {
   "cell_type": "code",
   "execution_count": 13,
   "metadata": {},
   "outputs": [
    {
     "name": "stdout",
     "output_type": "stream",
     "text": [
      "Before:\n",
      "We are here to proclaim that a new day is coming in Latin America. In Venezuela and across the Western Hemisphere, Socialism is DYING - and liberty, prosperity, and democracy are being REBORN...https://t.co/hPL5W48Pmg\n",
      "\n",
      "After:\n",
      "We proclaim new day coming Latin America In Venezuela across Western Hemisphere Socialism DYING liberty prosperity democracy REBORN\n"
     ]
    }
   ],
   "source": [
    "print('Before:\\n' + df['Text'][29] + '\\n\\nAfter:\\n' + text_processed[29])"
   ]
  },
  {
   "cell_type": "markdown",
   "metadata": {},
   "source": [
    "## 1.4 Sentiment Analysis"
   ]
  },
  {
   "cell_type": "markdown",
   "metadata": {},
   "source": [
    "Now we'll calculate the sentiment intensity for each of Trump's tweets using VADER which is especially tailored to work with social media texts"
   ]
  },
  {
   "cell_type": "code",
   "execution_count": 14,
   "metadata": {},
   "outputs": [
    {
     "data": {
      "text/html": [
       "<div>\n",
       "<style scoped>\n",
       "    .dataframe tbody tr th:only-of-type {\n",
       "        vertical-align: middle;\n",
       "    }\n",
       "\n",
       "    .dataframe tbody tr th {\n",
       "        vertical-align: top;\n",
       "    }\n",
       "\n",
       "    .dataframe thead th {\n",
       "        text-align: right;\n",
       "    }\n",
       "</style>\n",
       "<table border=\"1\" class=\"dataframe\">\n",
       "  <thead>\n",
       "    <tr style=\"text-align: right;\">\n",
       "      <th></th>\n",
       "      <th>Text</th>\n",
       "      <th>len</th>\n",
       "      <th>id</th>\n",
       "      <th>Date</th>\n",
       "      <th>Likes</th>\n",
       "      <th>RTs</th>\n",
       "      <th>neg</th>\n",
       "      <th>neu</th>\n",
       "      <th>pos</th>\n",
       "      <th>compound</th>\n",
       "    </tr>\n",
       "  </thead>\n",
       "  <tbody>\n",
       "    <tr>\n",
       "      <th>0</th>\n",
       "      <td>Senator John Cornyn has done an outstanding jo...</td>\n",
       "      <td>231</td>\n",
       "      <td>1098676390780719104</td>\n",
       "      <td>2019-02-21 00:00:00+00:00</td>\n",
       "      <td>101024</td>\n",
       "      <td>21110</td>\n",
       "      <td>0.063</td>\n",
       "      <td>0.608</td>\n",
       "      <td>0.329</td>\n",
       "      <td>0.9425</td>\n",
       "    </tr>\n",
       "    <tr>\n",
       "      <th>1</th>\n",
       "      <td>.@JussieSmollett - what about MAGA and the ten...</td>\n",
       "      <td>130</td>\n",
       "      <td>1098615818512941057</td>\n",
       "      <td>2019-02-21 00:00:00+00:00</td>\n",
       "      <td>222426</td>\n",
       "      <td>56149</td>\n",
       "      <td>0.386</td>\n",
       "      <td>0.614</td>\n",
       "      <td>0.000</td>\n",
       "      <td>-0.8932</td>\n",
       "    </tr>\n",
       "    <tr>\n",
       "      <th>2</th>\n",
       "      <td>THE WALL IS UNDER CONSTRUCTION RIGHT NOW! http...</td>\n",
       "      <td>65</td>\n",
       "      <td>1098587583469228037</td>\n",
       "      <td>2019-02-21 00:00:00+00:00</td>\n",
       "      <td>134130</td>\n",
       "      <td>31597</td>\n",
       "      <td>0.000</td>\n",
       "      <td>1.000</td>\n",
       "      <td>0.000</td>\n",
       "      <td>0.0000</td>\n",
       "    </tr>\n",
       "    <tr>\n",
       "      <th>3</th>\n",
       "      <td>....something that is so obviously the future....</td>\n",
       "      <td>274</td>\n",
       "      <td>1098583029713420288</td>\n",
       "      <td>2019-02-21 00:00:00+00:00</td>\n",
       "      <td>125867</td>\n",
       "      <td>23394</td>\n",
       "      <td>0.000</td>\n",
       "      <td>0.702</td>\n",
       "      <td>0.298</td>\n",
       "      <td>0.9344</td>\n",
       "    </tr>\n",
       "    <tr>\n",
       "      <th>4</th>\n",
       "      <td>I want 5G, and even 6G, technology in the Unit...</td>\n",
       "      <td>279</td>\n",
       "      <td>1098581869233344512</td>\n",
       "      <td>2019-02-21 00:00:00+00:00</td>\n",
       "      <td>143746</td>\n",
       "      <td>28589</td>\n",
       "      <td>0.076</td>\n",
       "      <td>0.743</td>\n",
       "      <td>0.180</td>\n",
       "      <td>0.7089</td>\n",
       "    </tr>\n",
       "  </tbody>\n",
       "</table>\n",
       "</div>"
      ],
      "text/plain": [
       "                                                Text  len  \\\n",
       "0  Senator John Cornyn has done an outstanding jo...  231   \n",
       "1  .@JussieSmollett - what about MAGA and the ten...  130   \n",
       "2  THE WALL IS UNDER CONSTRUCTION RIGHT NOW! http...   65   \n",
       "3  ....something that is so obviously the future....  274   \n",
       "4  I want 5G, and even 6G, technology in the Unit...  279   \n",
       "\n",
       "                    id                      Date   Likes    RTs    neg    neu  \\\n",
       "0  1098676390780719104 2019-02-21 00:00:00+00:00  101024  21110  0.063  0.608   \n",
       "1  1098615818512941057 2019-02-21 00:00:00+00:00  222426  56149  0.386  0.614   \n",
       "2  1098587583469228037 2019-02-21 00:00:00+00:00  134130  31597  0.000  1.000   \n",
       "3  1098583029713420288 2019-02-21 00:00:00+00:00  125867  23394  0.000  0.702   \n",
       "4  1098581869233344512 2019-02-21 00:00:00+00:00  143746  28589  0.076  0.743   \n",
       "\n",
       "     pos  compound  \n",
       "0  0.329    0.9425  \n",
       "1  0.000   -0.8932  \n",
       "2  0.000    0.0000  \n",
       "3  0.298    0.9344  \n",
       "4  0.180    0.7089  "
      ]
     },
     "execution_count": 14,
     "metadata": {},
     "output_type": "execute_result"
    }
   ],
   "source": [
    "analyzer = SentimentIntensityAnalyzer()\n",
    "\n",
    "sentiment_intensity = df['Text'].apply(lambda s: analyzer.polarity_scores(s))\n",
    "sentiment_intensity = sentiment_intensity.apply(pd.Series)\n",
    "df = pd.concat([df, sentiment_intensity], axis=1)\n",
    "df.head()"
   ]
  },
  {
   "cell_type": "markdown",
   "metadata": {},
   "source": [
    "We mark the tweets as neutral/negative/positive based on the calculated sentiment intensity."
   ]
  },
  {
   "cell_type": "code",
   "execution_count": 15,
   "metadata": {},
   "outputs": [
    {
     "data": {
      "text/html": [
       "<div>\n",
       "<style scoped>\n",
       "    .dataframe tbody tr th:only-of-type {\n",
       "        vertical-align: middle;\n",
       "    }\n",
       "\n",
       "    .dataframe tbody tr th {\n",
       "        vertical-align: top;\n",
       "    }\n",
       "\n",
       "    .dataframe thead th {\n",
       "        text-align: right;\n",
       "    }\n",
       "</style>\n",
       "<table border=\"1\" class=\"dataframe\">\n",
       "  <thead>\n",
       "    <tr style=\"text-align: right;\">\n",
       "      <th></th>\n",
       "      <th>Text</th>\n",
       "      <th>len</th>\n",
       "      <th>id</th>\n",
       "      <th>Date</th>\n",
       "      <th>Likes</th>\n",
       "      <th>RTs</th>\n",
       "      <th>neg</th>\n",
       "      <th>neu</th>\n",
       "      <th>pos</th>\n",
       "      <th>compound</th>\n",
       "      <th>Sentiment</th>\n",
       "    </tr>\n",
       "  </thead>\n",
       "  <tbody>\n",
       "    <tr>\n",
       "      <th>0</th>\n",
       "      <td>Senator John Cornyn has done an outstanding jo...</td>\n",
       "      <td>231</td>\n",
       "      <td>1098676390780719104</td>\n",
       "      <td>2019-02-21 00:00:00+00:00</td>\n",
       "      <td>101024</td>\n",
       "      <td>21110</td>\n",
       "      <td>0.063</td>\n",
       "      <td>0.608</td>\n",
       "      <td>0.329</td>\n",
       "      <td>0.9425</td>\n",
       "      <td>positive</td>\n",
       "    </tr>\n",
       "    <tr>\n",
       "      <th>1</th>\n",
       "      <td>.@JussieSmollett - what about MAGA and the ten...</td>\n",
       "      <td>130</td>\n",
       "      <td>1098615818512941057</td>\n",
       "      <td>2019-02-21 00:00:00+00:00</td>\n",
       "      <td>222426</td>\n",
       "      <td>56149</td>\n",
       "      <td>0.386</td>\n",
       "      <td>0.614</td>\n",
       "      <td>0.000</td>\n",
       "      <td>-0.8932</td>\n",
       "      <td>negative</td>\n",
       "    </tr>\n",
       "    <tr>\n",
       "      <th>2</th>\n",
       "      <td>THE WALL IS UNDER CONSTRUCTION RIGHT NOW! http...</td>\n",
       "      <td>65</td>\n",
       "      <td>1098587583469228037</td>\n",
       "      <td>2019-02-21 00:00:00+00:00</td>\n",
       "      <td>134130</td>\n",
       "      <td>31597</td>\n",
       "      <td>0.000</td>\n",
       "      <td>1.000</td>\n",
       "      <td>0.000</td>\n",
       "      <td>0.0000</td>\n",
       "      <td>neutral</td>\n",
       "    </tr>\n",
       "    <tr>\n",
       "      <th>3</th>\n",
       "      <td>....something that is so obviously the future....</td>\n",
       "      <td>274</td>\n",
       "      <td>1098583029713420288</td>\n",
       "      <td>2019-02-21 00:00:00+00:00</td>\n",
       "      <td>125867</td>\n",
       "      <td>23394</td>\n",
       "      <td>0.000</td>\n",
       "      <td>0.702</td>\n",
       "      <td>0.298</td>\n",
       "      <td>0.9344</td>\n",
       "      <td>positive</td>\n",
       "    </tr>\n",
       "    <tr>\n",
       "      <th>4</th>\n",
       "      <td>I want 5G, and even 6G, technology in the Unit...</td>\n",
       "      <td>279</td>\n",
       "      <td>1098581869233344512</td>\n",
       "      <td>2019-02-21 00:00:00+00:00</td>\n",
       "      <td>143746</td>\n",
       "      <td>28589</td>\n",
       "      <td>0.076</td>\n",
       "      <td>0.743</td>\n",
       "      <td>0.180</td>\n",
       "      <td>0.7089</td>\n",
       "      <td>positive</td>\n",
       "    </tr>\n",
       "  </tbody>\n",
       "</table>\n",
       "</div>"
      ],
      "text/plain": [
       "                                                Text  len  \\\n",
       "0  Senator John Cornyn has done an outstanding jo...  231   \n",
       "1  .@JussieSmollett - what about MAGA and the ten...  130   \n",
       "2  THE WALL IS UNDER CONSTRUCTION RIGHT NOW! http...   65   \n",
       "3  ....something that is so obviously the future....  274   \n",
       "4  I want 5G, and even 6G, technology in the Unit...  279   \n",
       "\n",
       "                    id                      Date   Likes    RTs    neg    neu  \\\n",
       "0  1098676390780719104 2019-02-21 00:00:00+00:00  101024  21110  0.063  0.608   \n",
       "1  1098615818512941057 2019-02-21 00:00:00+00:00  222426  56149  0.386  0.614   \n",
       "2  1098587583469228037 2019-02-21 00:00:00+00:00  134130  31597  0.000  1.000   \n",
       "3  1098583029713420288 2019-02-21 00:00:00+00:00  125867  23394  0.000  0.702   \n",
       "4  1098581869233344512 2019-02-21 00:00:00+00:00  143746  28589  0.076  0.743   \n",
       "\n",
       "     pos  compound Sentiment  \n",
       "0  0.329    0.9425  positive  \n",
       "1  0.000   -0.8932  negative  \n",
       "2  0.000    0.0000   neutral  \n",
       "3  0.298    0.9344  positive  \n",
       "4  0.180    0.7089  positive  "
      ]
     },
     "execution_count": 15,
     "metadata": {},
     "output_type": "execute_result"
    }
   ],
   "source": [
    "df.loc[(df['compound'] > -.05) &\n",
    "       (df['compound'] < .05), 'Sentiment'] = 'neutral'\n",
    "df.loc[df['compound'] <= -.05, 'Sentiment'] = 'negative'\n",
    "df.loc[df['compound'] >= .05, 'Sentiment'] = 'positive'\n",
    "df.head()"
   ]
  },
  {
   "cell_type": "markdown",
   "metadata": {},
   "source": [
    "Now lets take a look at the count and distribution of positive/negative tweets based on these marks."
   ]
  },
  {
   "cell_type": "code",
   "execution_count": 16,
   "metadata": {},
   "outputs": [
    {
     "data": {
      "text/plain": [
       "Counter({'positive': 299, 'negative': 212, 'neutral': 50})"
      ]
     },
     "execution_count": 16,
     "metadata": {},
     "output_type": "execute_result"
    }
   ],
   "source": [
    "Counter(df['Sentiment'])"
   ]
  },
  {
   "cell_type": "code",
   "execution_count": 77,
   "metadata": {},
   "outputs": [
    {
     "data": {
      "image/png": "[encoded data removed]",
      "text/plain": [
       "<Figure size 864x576 with 1 Axes>"
      ]
     },
     "metadata": {},
     "output_type": "display_data"
    }
   ],
   "source": [
    "sns.countplot(df['Sentiment'])\n",
    "plt.xlabel('Sentiment intensity')\n",
    "plt.ylabel('Number of tweets')\n",
    "plt.title('Trump\\'s tweets')\n",
    "plt.grid(False)"
   ]
  },
  {
   "cell_type": "markdown",
   "metadata": {},
   "source": [
    "## 1.5 Entities extraction\n",
    "Now after cleaning the data we can extract entities using SpaCy and NLTK and add it to the dataframe\n",
    "\n",
    "To see the transcription for the entities codes check the SpaCy documentation"
   ]
  },
  {
   "cell_type": "code",
   "execution_count": 18,
   "metadata": {},
   "outputs": [],
   "source": [
    "def get_entities(text):\n",
    "    \"\"\"\n",
    "    Extract counts for each entity found in input text\n",
    "    \"\"\"\n",
    "    return dict(Counter([s.label_ for s in nlp(text).ents]))"
   ]
  },
  {
   "cell_type": "code",
   "execution_count": 19,
   "metadata": {
    "scrolled": true
   },
   "outputs": [
    {
     "name": "stdout",
     "output_type": "stream",
     "text": [
      "Wall time: 5.27 s\n"
     ]
    }
   ],
   "source": [
    "%%time\n",
    "entities = text_processed.apply(lambda s: get_entities(s))\n",
    "entities = entities.apply(pd.Series)"
   ]
  },
  {
   "cell_type": "code",
   "execution_count": 20,
   "metadata": {
    "scrolled": true
   },
   "outputs": [
    {
     "data": {
      "text/html": [
       "<div>\n",
       "<style scoped>\n",
       "    .dataframe tbody tr th:only-of-type {\n",
       "        vertical-align: middle;\n",
       "    }\n",
       "\n",
       "    .dataframe tbody tr th {\n",
       "        vertical-align: top;\n",
       "    }\n",
       "\n",
       "    .dataframe thead th {\n",
       "        text-align: right;\n",
       "    }\n",
       "</style>\n",
       "<table border=\"1\" class=\"dataframe\">\n",
       "  <thead>\n",
       "    <tr style=\"text-align: right;\">\n",
       "      <th></th>\n",
       "      <th>Text</th>\n",
       "      <th>len</th>\n",
       "      <th>id</th>\n",
       "      <th>Date</th>\n",
       "      <th>Likes</th>\n",
       "      <th>RTs</th>\n",
       "      <th>neg</th>\n",
       "      <th>neu</th>\n",
       "      <th>pos</th>\n",
       "      <th>compound</th>\n",
       "      <th>...</th>\n",
       "      <th>MONEY</th>\n",
       "      <th>ORDINAL</th>\n",
       "      <th>LOC</th>\n",
       "      <th>PRODUCT</th>\n",
       "      <th>TIME</th>\n",
       "      <th>LAW</th>\n",
       "      <th>EVENT</th>\n",
       "      <th>WORK_OF_ART</th>\n",
       "      <th>FAC</th>\n",
       "      <th>QUANTITY</th>\n",
       "    </tr>\n",
       "  </thead>\n",
       "  <tbody>\n",
       "    <tr>\n",
       "      <th>0</th>\n",
       "      <td>Senator John Cornyn has done an outstanding jo...</td>\n",
       "      <td>231</td>\n",
       "      <td>1098676390780719104</td>\n",
       "      <td>2019-02-21 00:00:00+00:00</td>\n",
       "      <td>101024</td>\n",
       "      <td>21110</td>\n",
       "      <td>0.063</td>\n",
       "      <td>0.608</td>\n",
       "      <td>0.329</td>\n",
       "      <td>0.9425</td>\n",
       "      <td>...</td>\n",
       "      <td>NaN</td>\n",
       "      <td>NaN</td>\n",
       "      <td>NaN</td>\n",
       "      <td>NaN</td>\n",
       "      <td>NaN</td>\n",
       "      <td>NaN</td>\n",
       "      <td>NaN</td>\n",
       "      <td>NaN</td>\n",
       "      <td>NaN</td>\n",
       "      <td>NaN</td>\n",
       "    </tr>\n",
       "    <tr>\n",
       "      <th>1</th>\n",
       "      <td>.@JussieSmollett - what about MAGA and the ten...</td>\n",
       "      <td>130</td>\n",
       "      <td>1098615818512941057</td>\n",
       "      <td>2019-02-21 00:00:00+00:00</td>\n",
       "      <td>222426</td>\n",
       "      <td>56149</td>\n",
       "      <td>0.386</td>\n",
       "      <td>0.614</td>\n",
       "      <td>0.000</td>\n",
       "      <td>-0.8932</td>\n",
       "      <td>...</td>\n",
       "      <td>NaN</td>\n",
       "      <td>NaN</td>\n",
       "      <td>NaN</td>\n",
       "      <td>NaN</td>\n",
       "      <td>NaN</td>\n",
       "      <td>NaN</td>\n",
       "      <td>NaN</td>\n",
       "      <td>NaN</td>\n",
       "      <td>NaN</td>\n",
       "      <td>NaN</td>\n",
       "    </tr>\n",
       "    <tr>\n",
       "      <th>2</th>\n",
       "      <td>THE WALL IS UNDER CONSTRUCTION RIGHT NOW! http...</td>\n",
       "      <td>65</td>\n",
       "      <td>1098587583469228037</td>\n",
       "      <td>2019-02-21 00:00:00+00:00</td>\n",
       "      <td>134130</td>\n",
       "      <td>31597</td>\n",
       "      <td>0.000</td>\n",
       "      <td>1.000</td>\n",
       "      <td>0.000</td>\n",
       "      <td>0.0000</td>\n",
       "      <td>...</td>\n",
       "      <td>NaN</td>\n",
       "      <td>NaN</td>\n",
       "      <td>NaN</td>\n",
       "      <td>NaN</td>\n",
       "      <td>NaN</td>\n",
       "      <td>NaN</td>\n",
       "      <td>NaN</td>\n",
       "      <td>NaN</td>\n",
       "      <td>NaN</td>\n",
       "      <td>NaN</td>\n",
       "    </tr>\n",
       "    <tr>\n",
       "      <th>3</th>\n",
       "      <td>....something that is so obviously the future....</td>\n",
       "      <td>274</td>\n",
       "      <td>1098583029713420288</td>\n",
       "      <td>2019-02-21 00:00:00+00:00</td>\n",
       "      <td>125867</td>\n",
       "      <td>23394</td>\n",
       "      <td>0.000</td>\n",
       "      <td>0.702</td>\n",
       "      <td>0.298</td>\n",
       "      <td>0.9344</td>\n",
       "      <td>...</td>\n",
       "      <td>NaN</td>\n",
       "      <td>NaN</td>\n",
       "      <td>NaN</td>\n",
       "      <td>NaN</td>\n",
       "      <td>NaN</td>\n",
       "      <td>NaN</td>\n",
       "      <td>NaN</td>\n",
       "      <td>NaN</td>\n",
       "      <td>NaN</td>\n",
       "      <td>NaN</td>\n",
       "    </tr>\n",
       "    <tr>\n",
       "      <th>4</th>\n",
       "      <td>I want 5G, and even 6G, technology in the Unit...</td>\n",
       "      <td>279</td>\n",
       "      <td>1098581869233344512</td>\n",
       "      <td>2019-02-21 00:00:00+00:00</td>\n",
       "      <td>143746</td>\n",
       "      <td>28589</td>\n",
       "      <td>0.076</td>\n",
       "      <td>0.743</td>\n",
       "      <td>0.180</td>\n",
       "      <td>0.7089</td>\n",
       "      <td>...</td>\n",
       "      <td>NaN</td>\n",
       "      <td>NaN</td>\n",
       "      <td>NaN</td>\n",
       "      <td>NaN</td>\n",
       "      <td>NaN</td>\n",
       "      <td>NaN</td>\n",
       "      <td>NaN</td>\n",
       "      <td>NaN</td>\n",
       "      <td>NaN</td>\n",
       "      <td>NaN</td>\n",
       "    </tr>\n",
       "  </tbody>\n",
       "</table>\n",
       "<p>5 rows × 27 columns</p>\n",
       "</div>"
      ],
      "text/plain": [
       "                                                Text  len  \\\n",
       "0  Senator John Cornyn has done an outstanding jo...  231   \n",
       "1  .@JussieSmollett - what about MAGA and the ten...  130   \n",
       "2  THE WALL IS UNDER CONSTRUCTION RIGHT NOW! http...   65   \n",
       "3  ....something that is so obviously the future....  274   \n",
       "4  I want 5G, and even 6G, technology in the Unit...  279   \n",
       "\n",
       "                    id                      Date   Likes    RTs    neg    neu  \\\n",
       "0  1098676390780719104 2019-02-21 00:00:00+00:00  101024  21110  0.063  0.608   \n",
       "1  1098615818512941057 2019-02-21 00:00:00+00:00  222426  56149  0.386  0.614   \n",
       "2  1098587583469228037 2019-02-21 00:00:00+00:00  134130  31597  0.000  1.000   \n",
       "3  1098583029713420288 2019-02-21 00:00:00+00:00  125867  23394  0.000  0.702   \n",
       "4  1098581869233344512 2019-02-21 00:00:00+00:00  143746  28589  0.076  0.743   \n",
       "\n",
       "     pos  compound  ... MONEY  ORDINAL  LOC  PRODUCT  TIME  LAW  EVENT  \\\n",
       "0  0.329    0.9425  ...   NaN      NaN  NaN      NaN   NaN  NaN    NaN   \n",
       "1  0.000   -0.8932  ...   NaN      NaN  NaN      NaN   NaN  NaN    NaN   \n",
       "2  0.000    0.0000  ...   NaN      NaN  NaN      NaN   NaN  NaN    NaN   \n",
       "3  0.298    0.9344  ...   NaN      NaN  NaN      NaN   NaN  NaN    NaN   \n",
       "4  0.180    0.7089  ...   NaN      NaN  NaN      NaN   NaN  NaN    NaN   \n",
       "\n",
       "   WORK_OF_ART  FAC  QUANTITY  \n",
       "0          NaN  NaN       NaN  \n",
       "1          NaN  NaN       NaN  \n",
       "2          NaN  NaN       NaN  \n",
       "3          NaN  NaN       NaN  \n",
       "4          NaN  NaN       NaN  \n",
       "\n",
       "[5 rows x 27 columns]"
      ]
     },
     "execution_count": 20,
     "metadata": {},
     "output_type": "execute_result"
    }
   ],
   "source": [
    "df = pd.concat([df, entities], axis=1)\n",
    "df.head()"
   ]
  },
  {
   "cell_type": "markdown",
   "metadata": {},
   "source": [
    "Let's take a look at the entities distributions for tweets with positive and negative sentiments to know what Trump tweets about and in which context."
   ]
  },
  {
   "cell_type": "code",
   "execution_count": 78,
   "metadata": {
    "scrolled": true
   },
   "outputs": [
    {
     "data": {
      "text/plain": [
       "(0, 250)"
      ]
     },
     "execution_count": 78,
     "metadata": {},
     "output_type": "execute_result"
    },
    {
     "data": {
      "image/png": "[encoded data removed]",
      "text/plain": [
       "<Figure size 864x576 with 1 Axes>"
      ]
     },
     "metadata": {},
     "output_type": "display_data"
    }
   ],
   "source": [
    "counters = {}\n",
    "df_plot = df.loc[df['Sentiment'] == 'positive']\n",
    "\n",
    "for column in entities.columns:\n",
    "    counters.update({column: df_plot[column].sum()})\n",
    "\n",
    "df_entities_distribution = pd.DataFrame.from_dict(counters, orient='index', columns=['Count']).sort_values(by='Count')\n",
    "\n",
    "sns.barplot(data=df_entities_distribution, x='Count', y=df_entities_distribution.index)\n",
    "plt.title('Entities extracted from Trump\\'s positive tweets')\n",
    "plt.xlim(0,250)"
   ]
  },
  {
   "cell_type": "code",
   "execution_count": 79,
   "metadata": {
    "scrolled": true
   },
   "outputs": [
    {
     "data": {
      "text/plain": [
       "(0, 250)"
      ]
     },
     "execution_count": 79,
     "metadata": {},
     "output_type": "execute_result"
    },
    {
     "data": {
      "image/png": "[encoded data removed]",
      "text/plain": [
       "<Figure size 864x576 with 1 Axes>"
      ]
     },
     "metadata": {},
     "output_type": "display_data"
    }
   ],
   "source": [
    "counters = {}\n",
    "df_plot = df.loc[df['Sentiment'] == 'negative']\n",
    "\n",
    "for column in entities.columns:\n",
    "    counters.update({column: df_plot[column].sum()})\n",
    "\n",
    "df_entities_distribution = pd.DataFrame.from_dict(counters, orient='index', columns=['Count']).sort_values(by='Count')\n",
    "\n",
    "sns.barplot(data=df_entities_distribution, x='Count', y=df_entities_distribution.index)\n",
    "plt.title('Entities extracted from Trump\\'s negative tweets')\n",
    "plt.xlim(0,250)"
   ]
  },
  {
   "cell_type": "markdown",
   "metadata": {},
   "source": [
    "## 1.5 Correlation with approval ratings\n",
    "Approval ratings data from https://projects.fivethirtyeight.com/trump-approval-ratings/"
   ]
  },
  {
   "cell_type": "code",
   "execution_count": 23,
   "metadata": {},
   "outputs": [
    {
     "data": {
      "text/html": [
       "<div>\n",
       "<style scoped>\n",
       "    .dataframe tbody tr th:only-of-type {\n",
       "        vertical-align: middle;\n",
       "    }\n",
       "\n",
       "    .dataframe tbody tr th {\n",
       "        vertical-align: top;\n",
       "    }\n",
       "\n",
       "    .dataframe thead th {\n",
       "        text-align: right;\n",
       "    }\n",
       "</style>\n",
       "<table border=\"1\" class=\"dataframe\">\n",
       "  <thead>\n",
       "    <tr style=\"text-align: right;\">\n",
       "      <th></th>\n",
       "      <th>Rating</th>\n",
       "    </tr>\n",
       "  </thead>\n",
       "  <tbody>\n",
       "    <tr>\n",
       "      <th>2018-12-18</th>\n",
       "      <td>52.3</td>\n",
       "    </tr>\n",
       "    <tr>\n",
       "      <th>2018-12-19</th>\n",
       "      <td>52.4</td>\n",
       "    </tr>\n",
       "    <tr>\n",
       "      <th>2018-12-20</th>\n",
       "      <td>52.6</td>\n",
       "    </tr>\n",
       "    <tr>\n",
       "      <th>2018-12-21</th>\n",
       "      <td>52.7</td>\n",
       "    </tr>\n",
       "    <tr>\n",
       "      <th>2018-12-22</th>\n",
       "      <td>52.8</td>\n",
       "    </tr>\n",
       "    <tr>\n",
       "      <th>2018-12-23</th>\n",
       "      <td>52.8</td>\n",
       "    </tr>\n",
       "    <tr>\n",
       "      <th>2018-12-24</th>\n",
       "      <td>52.9</td>\n",
       "    </tr>\n",
       "    <tr>\n",
       "      <th>2018-12-25</th>\n",
       "      <td>53.0</td>\n",
       "    </tr>\n",
       "    <tr>\n",
       "      <th>2018-12-26</th>\n",
       "      <td>53.3</td>\n",
       "    </tr>\n",
       "    <tr>\n",
       "      <th>2018-12-27</th>\n",
       "      <td>53.2</td>\n",
       "    </tr>\n",
       "  </tbody>\n",
       "</table>\n",
       "</div>"
      ],
      "text/plain": [
       "            Rating\n",
       "2018-12-18    52.3\n",
       "2018-12-19    52.4\n",
       "2018-12-20    52.6\n",
       "2018-12-21    52.7\n",
       "2018-12-22    52.8\n",
       "2018-12-23    52.8\n",
       "2018-12-24    52.9\n",
       "2018-12-25    53.0\n",
       "2018-12-26    53.3\n",
       "2018-12-27    53.2"
      ]
     },
     "execution_count": 23,
     "metadata": {},
     "output_type": "execute_result"
    }
   ],
   "source": [
    "# disapproval rating\n",
    "rating = [\n",
    "    52.3, 52.4, 52.6, 52.7, 52.8, 52.8, 52.9, 53, 53.3, 53.2, 53.2, 53.3, 53.4,\n",
    "    53.4, 53.4, 53.5, 53.4, 53.4, 53.5, 53.5, 53.6, 53.8, 53.8, 53.9, 53.9,\n",
    "    53.9, 54.3, 54.4, 54.5, 54.9, 55.2, 55.2, 55.2, 55.2, 55.3, 55.0, 55.9,\n",
    "    55.9, 56, 56, 56, 55.9, 55.8, 55.9, 55.9, 55.9, 55.9, 56, 55.7, 55.6, 55.4,\n",
    "    55.3, 55.1, 55.1, 55.1, 55.1, 54.9, 54.1, 54.1, 54.0, 53.7, 53.7, 53.8,\n",
    "    53.6, 53.6, 53.2, 53\n",
    "]\n",
    "\n",
    "# approval rating\n",
    "# rating = [100 - x for x in rating]\n",
    "\n",
    "dates = pd.date_range(start_date, end_date)\n",
    "\n",
    "df_rating = pd.DataFrame(rating, index=dates, columns=['Rating'])\n",
    "df_rating.head(10)"
   ]
  },
  {
   "cell_type": "code",
   "execution_count": 24,
   "metadata": {},
   "outputs": [],
   "source": [
    "scatter_data = pd.DataFrame({'Date': df['Date'], 'Rate': 45, 'Sentiment': df['Sentiment']})\n",
    "scatter_data.loc[scatter_data['Sentiment'] == 'negative', 'Rate'] = 54\n",
    "scatter_data.loc[scatter_data['Sentiment'] == 'positive', 'Rate'] = 54.5\n",
    "scatter_data.loc[scatter_data['Sentiment'] == 'neutral', 'Rate'] = 53.5"
   ]
  },
  {
   "cell_type": "code",
   "execution_count": 25,
   "metadata": {},
   "outputs": [
    {
     "data": {
      "text/plain": [
       "Text(0.5, 1.0, \"Donald Trump's daily disapproval rate\")"
      ]
     },
     "execution_count": 25,
     "metadata": {},
     "output_type": "execute_result"
    },
    {
     "data": {
      "image/png": "[encoded data removed]",
      "text/plain": [
       "<Figure size 761.565x648 with 1 Axes>"
      ]
     },
     "metadata": {
      "needs_background": "light"
     },
     "output_type": "display_data"
    }
   ],
   "source": [
    "# sns.lineplot(df_rating.index, df_rating.Rating)\n",
    "fig = sns.FacetGrid(data=scatter_data, hue='Sentiment', height=9)\n",
    "fig.map(plt.scatter, 'Date', 'Rate').add_legend()\n",
    "fig.axes[0, 0].plot(df_rating.index, df_rating.Rating)\n",
    "plt.xticks(ticks=[df_rating.index[0], df_rating.index[-1]], labels=['18 Dec 2018', '22 Feb 2019'], rotation=60)\n",
    "plt.xlim(df_rating.index[0], df_rating.index[-1])\n",
    "plt.title('Donald Trump\\'s daily disapproval rate')"
   ]
  },
  {
   "cell_type": "code",
   "execution_count": 82,
   "metadata": {},
   "outputs": [
    {
     "data": {
      "text/html": [
       "<div>\n",
       "<style scoped>\n",
       "    .dataframe tbody tr th:only-of-type {\n",
       "        vertical-align: middle;\n",
       "    }\n",
       "\n",
       "    .dataframe tbody tr th {\n",
       "        vertical-align: top;\n",
       "    }\n",
       "\n",
       "    .dataframe thead th {\n",
       "        text-align: right;\n",
       "    }\n",
       "</style>\n",
       "<table border=\"1\" class=\"dataframe\">\n",
       "  <thead>\n",
       "    <tr style=\"text-align: right;\">\n",
       "      <th>Sentiment</th>\n",
       "      <th>negative</th>\n",
       "      <th>neutral</th>\n",
       "      <th>positive</th>\n",
       "    </tr>\n",
       "    <tr>\n",
       "      <th>Date</th>\n",
       "      <th></th>\n",
       "      <th></th>\n",
       "      <th></th>\n",
       "    </tr>\n",
       "  </thead>\n",
       "  <tbody>\n",
       "    <tr>\n",
       "      <th>2018-12-18 00:00:00+00:00</th>\n",
       "      <td>5.0</td>\n",
       "      <td>NaN</td>\n",
       "      <td>4.0</td>\n",
       "    </tr>\n",
       "    <tr>\n",
       "      <th>2018-12-19 00:00:00+00:00</th>\n",
       "      <td>4.0</td>\n",
       "      <td>NaN</td>\n",
       "      <td>8.0</td>\n",
       "    </tr>\n",
       "    <tr>\n",
       "      <th>2018-12-20 00:00:00+00:00</th>\n",
       "      <td>6.0</td>\n",
       "      <td>1.0</td>\n",
       "      <td>9.0</td>\n",
       "    </tr>\n",
       "    <tr>\n",
       "      <th>2018-12-21 00:00:00+00:00</th>\n",
       "      <td>5.0</td>\n",
       "      <td>4.0</td>\n",
       "      <td>11.0</td>\n",
       "    </tr>\n",
       "    <tr>\n",
       "      <th>2018-12-22 00:00:00+00:00</th>\n",
       "      <td>2.0</td>\n",
       "      <td>2.0</td>\n",
       "      <td>5.0</td>\n",
       "    </tr>\n",
       "  </tbody>\n",
       "</table>\n",
       "</div>"
      ],
      "text/plain": [
       "Sentiment                  negative  neutral  positive\n",
       "Date                                                  \n",
       "2018-12-18 00:00:00+00:00       5.0      NaN       4.0\n",
       "2018-12-19 00:00:00+00:00       4.0      NaN       8.0\n",
       "2018-12-20 00:00:00+00:00       6.0      1.0       9.0\n",
       "2018-12-21 00:00:00+00:00       5.0      4.0      11.0\n",
       "2018-12-22 00:00:00+00:00       2.0      2.0       5.0"
      ]
     },
     "execution_count": 82,
     "metadata": {},
     "output_type": "execute_result"
    }
   ],
   "source": [
    "df_plot = df.groupby(['Sentiment', 'Date']).size().reset_index().pivot(columns='Sentiment', index='Date', values=0)\n",
    "# df_plot['negative'] = df_plot['negative'] + 27\n",
    "# df_plot['neutral'] = df_plot['neutral'] + 27\n",
    "# df_plot['positive'] = df_plot['positive'] + 27\n",
    "df_plot.head()"
   ]
  },
  {
   "cell_type": "code",
   "execution_count": 83,
   "metadata": {},
   "outputs": [
    {
     "data": {
      "text/html": [
       "<div>\n",
       "<style scoped>\n",
       "    .dataframe tbody tr th:only-of-type {\n",
       "        vertical-align: middle;\n",
       "    }\n",
       "\n",
       "    .dataframe tbody tr th {\n",
       "        vertical-align: top;\n",
       "    }\n",
       "\n",
       "    .dataframe thead th {\n",
       "        text-align: right;\n",
       "    }\n",
       "</style>\n",
       "<table border=\"1\" class=\"dataframe\">\n",
       "  <thead>\n",
       "    <tr style=\"text-align: right;\">\n",
       "      <th>Sentiment</th>\n",
       "      <th>positive</th>\n",
       "      <th>negative</th>\n",
       "      <th>neutral</th>\n",
       "    </tr>\n",
       "    <tr>\n",
       "      <th>Date</th>\n",
       "      <th></th>\n",
       "      <th></th>\n",
       "      <th></th>\n",
       "    </tr>\n",
       "  </thead>\n",
       "  <tbody>\n",
       "    <tr>\n",
       "      <th>2018-12-18 00:00:00+00:00</th>\n",
       "      <td>4.0</td>\n",
       "      <td>5.0</td>\n",
       "      <td>NaN</td>\n",
       "    </tr>\n",
       "    <tr>\n",
       "      <th>2018-12-19 00:00:00+00:00</th>\n",
       "      <td>8.0</td>\n",
       "      <td>4.0</td>\n",
       "      <td>NaN</td>\n",
       "    </tr>\n",
       "    <tr>\n",
       "      <th>2018-12-20 00:00:00+00:00</th>\n",
       "      <td>9.0</td>\n",
       "      <td>6.0</td>\n",
       "      <td>1.0</td>\n",
       "    </tr>\n",
       "    <tr>\n",
       "      <th>2018-12-21 00:00:00+00:00</th>\n",
       "      <td>11.0</td>\n",
       "      <td>5.0</td>\n",
       "      <td>4.0</td>\n",
       "    </tr>\n",
       "    <tr>\n",
       "      <th>2018-12-22 00:00:00+00:00</th>\n",
       "      <td>5.0</td>\n",
       "      <td>2.0</td>\n",
       "      <td>2.0</td>\n",
       "    </tr>\n",
       "  </tbody>\n",
       "</table>\n",
       "</div>"
      ],
      "text/plain": [
       "Sentiment                  positive  negative  neutral\n",
       "Date                                                  \n",
       "2018-12-18 00:00:00+00:00       4.0       5.0      NaN\n",
       "2018-12-19 00:00:00+00:00       8.0       4.0      NaN\n",
       "2018-12-20 00:00:00+00:00       9.0       6.0      1.0\n",
       "2018-12-21 00:00:00+00:00      11.0       5.0      4.0\n",
       "2018-12-22 00:00:00+00:00       5.0       2.0      2.0"
      ]
     },
     "execution_count": 83,
     "metadata": {},
     "output_type": "execute_result"
    }
   ],
   "source": [
    "df_plot = df_plot[['positive', 'negative', 'neutral']]\n",
    "df_plot.head()"
   ]
  },
  {
   "cell_type": "code",
   "execution_count": 84,
   "metadata": {},
   "outputs": [
    {
     "data": {
      "text/plain": [
       "Text(0.5, 1.0, \"Donald Trump's daily disapproval rate\")"
      ]
     },
     "execution_count": 84,
     "metadata": {},
     "output_type": "execute_result"
    },
    {
     "data": {
      "image/png": "[encoded data removed]",
      "text/plain": [
       "<Figure size 864x576 with 1 Axes>"
      ]
     },
     "metadata": {},
     "output_type": "display_data"
    }
   ],
   "source": [
    "df_rating.plot(style='--r')\n",
    "plt.xticks(ticks=[df_rating.index[0], df_rating.index[-1]], labels=['18 Dec 2018', '22 Feb 2019'], rotation=60)\n",
    "plt.xlim(df_rating.index[0], df_rating.index[-1])\n",
    "sns.set_style('white')\n",
    "plt.title('Donald Trump\\'s daily disapproval rate')"
   ]
  },
  {
   "cell_type": "code",
   "execution_count": 85,
   "metadata": {},
   "outputs": [
    {
     "data": {
      "image/png": "[encoded data removed]",
      "text/plain": [
       "<Figure size 864x576 with 1 Axes>"
      ]
     },
     "metadata": {},
     "output_type": "display_data"
    }
   ],
   "source": [
    "df_plot.plot(kind='bar', stacked=True)\n",
    "sns.set(style='whitegrid', font_scale=1.4, palette='Set2', rc={\"figure.figsize\": [12, 8]})\n",
    "plt.tick_params(\n",
    "    axis='x',          # changes apply to the x-axis\n",
    "    which='both',      # both major and minor ticks are affected\n",
    "    bottom=False,      # ticks along the bottom edge are off\n",
    "    top=False,         # ticks along the top edge are off\n",
    "    labelbottom=False)\n",
    "plt.grid(False)"
   ]
  },
  {
   "cell_type": "code",
   "execution_count": 30,
   "metadata": {},
   "outputs": [
    {
     "data": {
      "text/plain": [
       "Text(0.5, 1.0, \"Trump's negative tweets daily\")"
      ]
     },
     "execution_count": 30,
     "metadata": {},
     "output_type": "execute_result"
    },
    {
     "data": {
      "image/png": "[encoded data removed]",
      "text/plain": [
       "<Figure size 864x576 with 1 Axes>"
      ]
     },
     "metadata": {},
     "output_type": "display_data"
    }
   ],
   "source": [
    "df_plot['negative'].plot(kind='bar', color=sns.color_palette()[1])\n",
    "plt.tick_params(\n",
    "    axis='x',          # changes apply to the x-axis\n",
    "    which='both',      # both major and minor ticks are affected\n",
    "    bottom=False,      # ticks along the bottom edge are off\n",
    "    top=False,         # ticks along the top edge are off\n",
    "    labelbottom=False)\n",
    "plt.legend()\n",
    "plt.ylim(0, 14)\n",
    "plt.grid(False)\n",
    "plt.title('Trump\\'s negative tweets daily')"
   ]
  },
  {
   "cell_type": "code",
   "execution_count": 31,
   "metadata": {},
   "outputs": [
    {
     "data": {
      "text/plain": [
       "Text(0.5, 1.0, \"Trump's positive tweets daily\")"
      ]
     },
     "execution_count": 31,
     "metadata": {},
     "output_type": "execute_result"
    },
    {
     "data": {
      "image/png": "[encoded data removed]",
      "text/plain": [
       "<Figure size 864x576 with 1 Axes>"
      ]
     },
     "metadata": {},
     "output_type": "display_data"
    }
   ],
   "source": [
    "df_plot['positive'].plot(kind='bar', color=sns.color_palette()[0])\n",
    "plt.tick_params(\n",
    "    axis='x',          # changes apply to the x-axis\n",
    "    which='both',      # both major and minor ticks are affected\n",
    "    bottom=False,      # ticks along the bottom edge are off\n",
    "    top=False,         # ticks along the top edge are off\n",
    "    labelbottom=False)\n",
    "plt.legend()\n",
    "plt.grid(False)\n",
    "plt.ylim(0, 14)\n",
    "plt.title('Trump\\'s positive tweets daily')"
   ]
  },
  {
   "cell_type": "markdown",
   "metadata": {},
   "source": [
    "# Research Question 2\n",
    "2. Is there a correlation between the sentiment of Trump’s tweets and the sentiment of tweets that mention him?"
   ]
  },
  {
   "cell_type": "markdown",
   "metadata": {},
   "source": [
    "## 2.1 Initialization\n",
    "Due to limitations of the basic Twitter API, we define a new date range for our second research question"
   ]
  },
  {
   "cell_type": "code",
   "execution_count": 32,
   "metadata": {},
   "outputs": [],
   "source": [
    "# dates range to collect tweets for a period of 7 days\n",
    "start_date2 = datetime.datetime(2019, 3, 14, 0, 0, 0)\n",
    "end_date2 = datetime.datetime(2019, 3, 21, 0, 0, 0)"
   ]
  },
  {
   "cell_type": "markdown",
   "metadata": {},
   "source": [
    "## 2.2 Tweets collection\n",
    "Now we collect Trump's tweets for the specified period and save them in a new file"
   ]
  },
  {
   "cell_type": "code",
   "execution_count": 33,
   "metadata": {},
   "outputs": [
    {
     "name": "stdout",
     "output_type": "stream",
     "text": [
      "Wall time: 0 ns\n"
     ]
    }
   ],
   "source": [
    "%%time\n",
    "if os.path.isfile('trump_tweets_week.json') and not os.stat('trump_tweets_week.json').st_size == 0:\n",
    "    logging.info('File trump_tweets_week.json already exists! Reading the file..')\n",
    "    file = open('trump_tweets_week.json', 'r', encoding='utf8')\n",
    "    tweets = json.load(file)\n",
    "    file.close()\n",
    "else:\n",
    "    logging.info('Creating trump_tweets_week.json, collecting tweets..')\n",
    "    file = open('trump_tweets_week.json', 'w', encoding='utf8')\n",
    "    tweets = []\n",
    "    collect_tweets(tweets, file)\n",
    "    file.close()"
   ]
  },
  {
   "cell_type": "markdown",
   "metadata": {},
   "source": [
    "Create a new dataframe to store and process the data "
   ]
  },
  {
   "cell_type": "code",
   "execution_count": 34,
   "metadata": {},
   "outputs": [
    {
     "data": {
      "text/html": [
       "<div>\n",
       "<style scoped>\n",
       "    .dataframe tbody tr th:only-of-type {\n",
       "        vertical-align: middle;\n",
       "    }\n",
       "\n",
       "    .dataframe tbody tr th {\n",
       "        vertical-align: top;\n",
       "    }\n",
       "\n",
       "    .dataframe thead th {\n",
       "        text-align: right;\n",
       "    }\n",
       "</style>\n",
       "<table border=\"1\" class=\"dataframe\">\n",
       "  <thead>\n",
       "    <tr style=\"text-align: right;\">\n",
       "      <th></th>\n",
       "      <th>Text</th>\n",
       "    </tr>\n",
       "  </thead>\n",
       "  <tbody>\n",
       "    <tr>\n",
       "      <th>0</th>\n",
       "      <td>George Conway, often referred to as Mr. Kellya...</td>\n",
       "    </tr>\n",
       "    <tr>\n",
       "      <th>1</th>\n",
       "      <td>The Democrats are getting very “strange.” They...</td>\n",
       "    </tr>\n",
       "    <tr>\n",
       "      <th>2</th>\n",
       "      <td>Not a good situation! https://t.co/uaMcSrX4yM</td>\n",
       "    </tr>\n",
       "    <tr>\n",
       "      <th>3</th>\n",
       "      <td>....just the large States - the Cities would e...</td>\n",
       "    </tr>\n",
       "    <tr>\n",
       "      <th>4</th>\n",
       "      <td>Campaigning for the Popular Vote is much easie...</td>\n",
       "    </tr>\n",
       "    <tr>\n",
       "      <th>5</th>\n",
       "      <td>Thank you @JesseBWatters, could not have said ...</td>\n",
       "    </tr>\n",
       "    <tr>\n",
       "      <th>6</th>\n",
       "      <td>Amazingly, CNN just released a poll at 71%, sa...</td>\n",
       "    </tr>\n",
       "    <tr>\n",
       "      <th>7</th>\n",
       "      <td>https://t.co/95I4towyEP</td>\n",
       "    </tr>\n",
       "    <tr>\n",
       "      <th>8</th>\n",
       "      <td>I will be looking into this! #StopTheBias http...</td>\n",
       "    </tr>\n",
       "    <tr>\n",
       "      <th>9</th>\n",
       "      <td>Facebook, Google and Twitter, not to mention t...</td>\n",
       "    </tr>\n",
       "  </tbody>\n",
       "</table>\n",
       "</div>"
      ],
      "text/plain": [
       "                                                Text\n",
       "0  George Conway, often referred to as Mr. Kellya...\n",
       "1  The Democrats are getting very “strange.” They...\n",
       "2      Not a good situation! https://t.co/uaMcSrX4yM\n",
       "3  ....just the large States - the Cities would e...\n",
       "4  Campaigning for the Popular Vote is much easie...\n",
       "5  Thank you @JesseBWatters, could not have said ...\n",
       "6  Amazingly, CNN just released a poll at 71%, sa...\n",
       "7                            https://t.co/95I4towyEP\n",
       "8  I will be looking into this! #StopTheBias http...\n",
       "9  Facebook, Google and Twitter, not to mention t..."
      ]
     },
     "execution_count": 34,
     "metadata": {},
     "output_type": "execute_result"
    }
   ],
   "source": [
    "df2 = pd.DataFrame(data=[tweet['full_text'] for tweet in tweets], columns=['Text'])\n",
    "df2.head(10)"
   ]
  },
  {
   "cell_type": "code",
   "execution_count": 35,
   "metadata": {},
   "outputs": [
    {
     "name": "stdout",
     "output_type": "stream",
     "text": [
      "id: 1108335293671845888\n",
      "date: Wed Mar 20 11:51:40 +0000 2019\n",
      "likes: 86502\n",
      "retweets: 19001\n",
      "{'hashtags': [], 'symbols': [], 'user_mentions': [], 'urls': []}\n"
     ]
    }
   ],
   "source": [
    "print('id:',tweets[0]['id'])\n",
    "print('date:',tweets[0]['created_at'])\n",
    "print('likes:',tweets[0]['favorite_count'])\n",
    "print('retweets:',tweets[0]['retweet_count'])\n",
    "print(tweets[0]['entities'])"
   ]
  },
  {
   "cell_type": "code",
   "execution_count": 36,
   "metadata": {},
   "outputs": [
    {
     "data": {
      "text/html": [
       "<div>\n",
       "<style scoped>\n",
       "    .dataframe tbody tr th:only-of-type {\n",
       "        vertical-align: middle;\n",
       "    }\n",
       "\n",
       "    .dataframe tbody tr th {\n",
       "        vertical-align: top;\n",
       "    }\n",
       "\n",
       "    .dataframe thead th {\n",
       "        text-align: right;\n",
       "    }\n",
       "</style>\n",
       "<table border=\"1\" class=\"dataframe\">\n",
       "  <thead>\n",
       "    <tr style=\"text-align: right;\">\n",
       "      <th></th>\n",
       "      <th>Text</th>\n",
       "      <th>len</th>\n",
       "      <th>id</th>\n",
       "      <th>Date</th>\n",
       "      <th>Likes</th>\n",
       "      <th>RTs</th>\n",
       "    </tr>\n",
       "  </thead>\n",
       "  <tbody>\n",
       "    <tr>\n",
       "      <th>0</th>\n",
       "      <td>George Conway, often referred to as Mr. Kellya...</td>\n",
       "      <td>286</td>\n",
       "      <td>1108335293671845888</td>\n",
       "      <td>2019-03-20 00:00:00+00:00</td>\n",
       "      <td>86502</td>\n",
       "      <td>19001</td>\n",
       "    </tr>\n",
       "    <tr>\n",
       "      <th>1</th>\n",
       "      <td>The Democrats are getting very “strange.” They...</td>\n",
       "      <td>233</td>\n",
       "      <td>1108217768187449344</td>\n",
       "      <td>2019-03-20 00:00:00+00:00</td>\n",
       "      <td>98159</td>\n",
       "      <td>25851</td>\n",
       "    </tr>\n",
       "    <tr>\n",
       "      <th>2</th>\n",
       "      <td>Not a good situation! https://t.co/uaMcSrX4yM</td>\n",
       "      <td>45</td>\n",
       "      <td>1108214845294428161</td>\n",
       "      <td>2019-03-20 00:00:00+00:00</td>\n",
       "      <td>64043</td>\n",
       "      <td>19040</td>\n",
       "    </tr>\n",
       "    <tr>\n",
       "      <th>3</th>\n",
       "      <td>....just the large States - the Cities would e...</td>\n",
       "      <td>288</td>\n",
       "      <td>1108190837257764864</td>\n",
       "      <td>2019-03-20 00:00:00+00:00</td>\n",
       "      <td>102006</td>\n",
       "      <td>24900</td>\n",
       "    </tr>\n",
       "    <tr>\n",
       "      <th>4</th>\n",
       "      <td>Campaigning for the Popular Vote is much easie...</td>\n",
       "      <td>284</td>\n",
       "      <td>1108187855954870272</td>\n",
       "      <td>2019-03-20 00:00:00+00:00</td>\n",
       "      <td>78409</td>\n",
       "      <td>20547</td>\n",
       "    </tr>\n",
       "  </tbody>\n",
       "</table>\n",
       "</div>"
      ],
      "text/plain": [
       "                                                Text  len  \\\n",
       "0  George Conway, often referred to as Mr. Kellya...  286   \n",
       "1  The Democrats are getting very “strange.” They...  233   \n",
       "2      Not a good situation! https://t.co/uaMcSrX4yM   45   \n",
       "3  ....just the large States - the Cities would e...  288   \n",
       "4  Campaigning for the Popular Vote is much easie...  284   \n",
       "\n",
       "                    id                      Date   Likes    RTs  \n",
       "0  1108335293671845888 2019-03-20 00:00:00+00:00   86502  19001  \n",
       "1  1108217768187449344 2019-03-20 00:00:00+00:00   98159  25851  \n",
       "2  1108214845294428161 2019-03-20 00:00:00+00:00   64043  19040  \n",
       "3  1108190837257764864 2019-03-20 00:00:00+00:00  102006  24900  \n",
       "4  1108187855954870272 2019-03-20 00:00:00+00:00   78409  20547  "
      ]
     },
     "execution_count": 36,
     "metadata": {},
     "output_type": "execute_result"
    }
   ],
   "source": [
    "df2['len'] = np.array([len(tweet['full_text']) for tweet in tweets])\n",
    "df2['id'] = np.array([tweet['id'] for tweet in tweets])\n",
    "df2['Date'] = pd.DatetimeIndex(pd.to_datetime([tweet['created_at'] for tweet in tweets])).normalize()\n",
    "df2['Likes'] = np.array([tweet['favorite_count'] for tweet in tweets])\n",
    "df2['RTs'] = np.array([tweet['retweet_count'] for tweet in tweets])\n",
    "df2.head()"
   ]
  },
  {
   "cell_type": "code",
   "execution_count": 37,
   "metadata": {},
   "outputs": [
    {
     "data": {
      "text/plain": [
       "(Timestamp('2019-03-14 00:00:00+0000', tz='UTC'),\n",
       " Timestamp('2019-03-20 00:00:00+0000', tz='UTC'))"
      ]
     },
     "execution_count": 37,
     "metadata": {},
     "output_type": "execute_result"
    }
   ],
   "source": [
    "min(df2.Date), max(df2.Date)"
   ]
  },
  {
   "cell_type": "code",
   "execution_count": 38,
   "metadata": {},
   "outputs": [
    {
     "data": {
      "text/plain": [
       "(79, 6)"
      ]
     },
     "execution_count": 38,
     "metadata": {},
     "output_type": "execute_result"
    }
   ],
   "source": [
    "df2.shape"
   ]
  },
  {
   "cell_type": "markdown",
   "metadata": {},
   "source": [
    "## 2.3 Natural Language Processing (Trump's Tweets)"
   ]
  },
  {
   "cell_type": "markdown",
   "metadata": {},
   "source": [
    "### 2.3.1 Data preprocessing\n",
    "\n",
    "Now lets do some preprocessing again to prepare the new data for the entities extraction"
   ]
  },
  {
   "cell_type": "code",
   "execution_count": 39,
   "metadata": {},
   "outputs": [],
   "source": [
    "# remove @user mentions, # hashtag symbol, URLs, emoji etc.\n",
    "# check the package documentation for info\n",
    "# pre.set_options(pre.OPT.URL, pre.OPT.EMOJI, pre.OPT.MENTION, pre.OPT.RESERVED, pre.OPT.SMILEY, pre.OPT.NUMBER)\n",
    "text_processed_week = df2['Text'].apply(lambda s: pre.clean(s))\n",
    "\n",
    "# removing all non alpha-numeric symbols\n",
    "text_processed_week = text_processed_week.apply(lambda s: re.sub(r'[^A-Za-z0-9 ]', '', s))\n",
    "\n",
    "# removing stop words\n",
    "text_processed_week = text_processed_week.apply(lambda s: ' '.join(word for word in s.split() if word not in stop_words))"
   ]
  },
  {
   "cell_type": "code",
   "execution_count": 40,
   "metadata": {},
   "outputs": [
    {
     "name": "stdout",
     "output_type": "stream",
     "text": [
      "Before:\n",
      "Facebook, Google and Twitter, not to mention the Corrupt Media, are sooo on the side of the Radical Left Democrats. But fear not, we will win anyway, just like we did before! #MAGA\n",
      "\n",
      "After:\n",
      "Facebook Google Twitter mention Corrupt Media sooo side Radical Left Democrats But fear win anyway like\n"
     ]
    }
   ],
   "source": [
    "print('Before:\\n' + df2['Text'][9] + '\\n\\nAfter:\\n' + text_processed_week[9])"
   ]
  },
  {
   "cell_type": "markdown",
   "metadata": {},
   "source": [
    "## 2.4 Sentiment Analysis (7 Days)\n",
    "Now we'll calculate the sentiment intensity for Trump's tweets for this period"
   ]
  },
  {
   "cell_type": "code",
   "execution_count": 41,
   "metadata": {},
   "outputs": [
    {
     "data": {
      "text/html": [
       "<div>\n",
       "<style scoped>\n",
       "    .dataframe tbody tr th:only-of-type {\n",
       "        vertical-align: middle;\n",
       "    }\n",
       "\n",
       "    .dataframe tbody tr th {\n",
       "        vertical-align: top;\n",
       "    }\n",
       "\n",
       "    .dataframe thead th {\n",
       "        text-align: right;\n",
       "    }\n",
       "</style>\n",
       "<table border=\"1\" class=\"dataframe\">\n",
       "  <thead>\n",
       "    <tr style=\"text-align: right;\">\n",
       "      <th></th>\n",
       "      <th>Text</th>\n",
       "      <th>len</th>\n",
       "      <th>id</th>\n",
       "      <th>Date</th>\n",
       "      <th>Likes</th>\n",
       "      <th>RTs</th>\n",
       "      <th>neg</th>\n",
       "      <th>neu</th>\n",
       "      <th>pos</th>\n",
       "      <th>compound</th>\n",
       "    </tr>\n",
       "  </thead>\n",
       "  <tbody>\n",
       "    <tr>\n",
       "      <th>0</th>\n",
       "      <td>George Conway, often referred to as Mr. Kellya...</td>\n",
       "      <td>286</td>\n",
       "      <td>1108335293671845888</td>\n",
       "      <td>2019-03-20 00:00:00+00:00</td>\n",
       "      <td>86502</td>\n",
       "      <td>19001</td>\n",
       "      <td>0.285</td>\n",
       "      <td>0.652</td>\n",
       "      <td>0.062</td>\n",
       "      <td>-0.9519</td>\n",
       "    </tr>\n",
       "    <tr>\n",
       "      <th>1</th>\n",
       "      <td>The Democrats are getting very “strange.” They...</td>\n",
       "      <td>233</td>\n",
       "      <td>1108217768187449344</td>\n",
       "      <td>2019-03-20 00:00:00+00:00</td>\n",
       "      <td>98159</td>\n",
       "      <td>25851</td>\n",
       "      <td>0.000</td>\n",
       "      <td>0.730</td>\n",
       "      <td>0.270</td>\n",
       "      <td>0.8908</td>\n",
       "    </tr>\n",
       "    <tr>\n",
       "      <th>2</th>\n",
       "      <td>Not a good situation! https://t.co/uaMcSrX4yM</td>\n",
       "      <td>45</td>\n",
       "      <td>1108214845294428161</td>\n",
       "      <td>2019-03-20 00:00:00+00:00</td>\n",
       "      <td>64043</td>\n",
       "      <td>19040</td>\n",
       "      <td>0.473</td>\n",
       "      <td>0.527</td>\n",
       "      <td>0.000</td>\n",
       "      <td>-0.4015</td>\n",
       "    </tr>\n",
       "    <tr>\n",
       "      <th>3</th>\n",
       "      <td>....just the large States - the Cities would e...</td>\n",
       "      <td>288</td>\n",
       "      <td>1108190837257764864</td>\n",
       "      <td>2019-03-20 00:00:00+00:00</td>\n",
       "      <td>102006</td>\n",
       "      <td>24900</td>\n",
       "      <td>0.032</td>\n",
       "      <td>0.835</td>\n",
       "      <td>0.133</td>\n",
       "      <td>0.6908</td>\n",
       "    </tr>\n",
       "    <tr>\n",
       "      <th>4</th>\n",
       "      <td>Campaigning for the Popular Vote is much easie...</td>\n",
       "      <td>284</td>\n",
       "      <td>1108187855954870272</td>\n",
       "      <td>2019-03-20 00:00:00+00:00</td>\n",
       "      <td>78409</td>\n",
       "      <td>20547</td>\n",
       "      <td>0.000</td>\n",
       "      <td>0.698</td>\n",
       "      <td>0.302</td>\n",
       "      <td>0.9559</td>\n",
       "    </tr>\n",
       "  </tbody>\n",
       "</table>\n",
       "</div>"
      ],
      "text/plain": [
       "                                                Text  len  \\\n",
       "0  George Conway, often referred to as Mr. Kellya...  286   \n",
       "1  The Democrats are getting very “strange.” They...  233   \n",
       "2      Not a good situation! https://t.co/uaMcSrX4yM   45   \n",
       "3  ....just the large States - the Cities would e...  288   \n",
       "4  Campaigning for the Popular Vote is much easie...  284   \n",
       "\n",
       "                    id                      Date   Likes    RTs    neg    neu  \\\n",
       "0  1108335293671845888 2019-03-20 00:00:00+00:00   86502  19001  0.285  0.652   \n",
       "1  1108217768187449344 2019-03-20 00:00:00+00:00   98159  25851  0.000  0.730   \n",
       "2  1108214845294428161 2019-03-20 00:00:00+00:00   64043  19040  0.473  0.527   \n",
       "3  1108190837257764864 2019-03-20 00:00:00+00:00  102006  24900  0.032  0.835   \n",
       "4  1108187855954870272 2019-03-20 00:00:00+00:00   78409  20547  0.000  0.698   \n",
       "\n",
       "     pos  compound  \n",
       "0  0.062   -0.9519  \n",
       "1  0.270    0.8908  \n",
       "2  0.000   -0.4015  \n",
       "3  0.133    0.6908  \n",
       "4  0.302    0.9559  "
      ]
     },
     "execution_count": 41,
     "metadata": {},
     "output_type": "execute_result"
    }
   ],
   "source": [
    "analyzer = SentimentIntensityAnalyzer()\n",
    "\n",
    "sentiment_intensity_week = df2['Text'].apply(lambda s: analyzer.polarity_scores(s))\n",
    "sentiment_intensity_week = sentiment_intensity_week.apply(pd.Series)\n",
    "df2 = pd.concat([df2, sentiment_intensity_week], axis=1)\n",
    "\n",
    "df2.head()"
   ]
  },
  {
   "cell_type": "code",
   "execution_count": 42,
   "metadata": {},
   "outputs": [
    {
     "data": {
      "text/html": [
       "<div>\n",
       "<style scoped>\n",
       "    .dataframe tbody tr th:only-of-type {\n",
       "        vertical-align: middle;\n",
       "    }\n",
       "\n",
       "    .dataframe tbody tr th {\n",
       "        vertical-align: top;\n",
       "    }\n",
       "\n",
       "    .dataframe thead th {\n",
       "        text-align: right;\n",
       "    }\n",
       "</style>\n",
       "<table border=\"1\" class=\"dataframe\">\n",
       "  <thead>\n",
       "    <tr style=\"text-align: right;\">\n",
       "      <th></th>\n",
       "      <th>Text</th>\n",
       "      <th>len</th>\n",
       "      <th>id</th>\n",
       "      <th>Date</th>\n",
       "      <th>Likes</th>\n",
       "      <th>RTs</th>\n",
       "      <th>neg</th>\n",
       "      <th>neu</th>\n",
       "      <th>pos</th>\n",
       "      <th>compound</th>\n",
       "      <th>Sentiment</th>\n",
       "    </tr>\n",
       "  </thead>\n",
       "  <tbody>\n",
       "    <tr>\n",
       "      <th>0</th>\n",
       "      <td>George Conway, often referred to as Mr. Kellya...</td>\n",
       "      <td>286</td>\n",
       "      <td>1108335293671845888</td>\n",
       "      <td>2019-03-20 00:00:00+00:00</td>\n",
       "      <td>86502</td>\n",
       "      <td>19001</td>\n",
       "      <td>0.285</td>\n",
       "      <td>0.652</td>\n",
       "      <td>0.062</td>\n",
       "      <td>-0.9519</td>\n",
       "      <td>negative</td>\n",
       "    </tr>\n",
       "    <tr>\n",
       "      <th>1</th>\n",
       "      <td>The Democrats are getting very “strange.” They...</td>\n",
       "      <td>233</td>\n",
       "      <td>1108217768187449344</td>\n",
       "      <td>2019-03-20 00:00:00+00:00</td>\n",
       "      <td>98159</td>\n",
       "      <td>25851</td>\n",
       "      <td>0.000</td>\n",
       "      <td>0.730</td>\n",
       "      <td>0.270</td>\n",
       "      <td>0.8908</td>\n",
       "      <td>positive</td>\n",
       "    </tr>\n",
       "    <tr>\n",
       "      <th>2</th>\n",
       "      <td>Not a good situation! https://t.co/uaMcSrX4yM</td>\n",
       "      <td>45</td>\n",
       "      <td>1108214845294428161</td>\n",
       "      <td>2019-03-20 00:00:00+00:00</td>\n",
       "      <td>64043</td>\n",
       "      <td>19040</td>\n",
       "      <td>0.473</td>\n",
       "      <td>0.527</td>\n",
       "      <td>0.000</td>\n",
       "      <td>-0.4015</td>\n",
       "      <td>negative</td>\n",
       "    </tr>\n",
       "    <tr>\n",
       "      <th>3</th>\n",
       "      <td>....just the large States - the Cities would e...</td>\n",
       "      <td>288</td>\n",
       "      <td>1108190837257764864</td>\n",
       "      <td>2019-03-20 00:00:00+00:00</td>\n",
       "      <td>102006</td>\n",
       "      <td>24900</td>\n",
       "      <td>0.032</td>\n",
       "      <td>0.835</td>\n",
       "      <td>0.133</td>\n",
       "      <td>0.6908</td>\n",
       "      <td>positive</td>\n",
       "    </tr>\n",
       "    <tr>\n",
       "      <th>4</th>\n",
       "      <td>Campaigning for the Popular Vote is much easie...</td>\n",
       "      <td>284</td>\n",
       "      <td>1108187855954870272</td>\n",
       "      <td>2019-03-20 00:00:00+00:00</td>\n",
       "      <td>78409</td>\n",
       "      <td>20547</td>\n",
       "      <td>0.000</td>\n",
       "      <td>0.698</td>\n",
       "      <td>0.302</td>\n",
       "      <td>0.9559</td>\n",
       "      <td>positive</td>\n",
       "    </tr>\n",
       "  </tbody>\n",
       "</table>\n",
       "</div>"
      ],
      "text/plain": [
       "                                                Text  len  \\\n",
       "0  George Conway, often referred to as Mr. Kellya...  286   \n",
       "1  The Democrats are getting very “strange.” They...  233   \n",
       "2      Not a good situation! https://t.co/uaMcSrX4yM   45   \n",
       "3  ....just the large States - the Cities would e...  288   \n",
       "4  Campaigning for the Popular Vote is much easie...  284   \n",
       "\n",
       "                    id                      Date   Likes    RTs    neg    neu  \\\n",
       "0  1108335293671845888 2019-03-20 00:00:00+00:00   86502  19001  0.285  0.652   \n",
       "1  1108217768187449344 2019-03-20 00:00:00+00:00   98159  25851  0.000  0.730   \n",
       "2  1108214845294428161 2019-03-20 00:00:00+00:00   64043  19040  0.473  0.527   \n",
       "3  1108190837257764864 2019-03-20 00:00:00+00:00  102006  24900  0.032  0.835   \n",
       "4  1108187855954870272 2019-03-20 00:00:00+00:00   78409  20547  0.000  0.698   \n",
       "\n",
       "     pos  compound Sentiment  \n",
       "0  0.062   -0.9519  negative  \n",
       "1  0.270    0.8908  positive  \n",
       "2  0.000   -0.4015  negative  \n",
       "3  0.133    0.6908  positive  \n",
       "4  0.302    0.9559  positive  "
      ]
     },
     "execution_count": 42,
     "metadata": {},
     "output_type": "execute_result"
    }
   ],
   "source": [
    "df2.loc[(df2['compound'] > -.05) & (df2['compound'] < .05), 'Sentiment'] = 'neutral'\n",
    "df2.loc[df2['compound'] <= -.05, 'Sentiment'] = 'negative'\n",
    "df2.loc[df2['compound'] >= .05, 'Sentiment'] = 'positive'\n",
    "df2.head()"
   ]
  },
  {
   "cell_type": "code",
   "execution_count": 43,
   "metadata": {},
   "outputs": [
    {
     "data": {
      "text/plain": [
       "Counter({'negative': 27, 'positive': 35, 'neutral': 17})"
      ]
     },
     "execution_count": 43,
     "metadata": {},
     "output_type": "execute_result"
    }
   ],
   "source": [
    "Counter(df2['Sentiment'])"
   ]
  },
  {
   "cell_type": "code",
   "execution_count": 44,
   "metadata": {},
   "outputs": [
    {
     "data": {
      "text/plain": [
       "(0, 40)"
      ]
     },
     "execution_count": 44,
     "metadata": {},
     "output_type": "execute_result"
    },
    {
     "data": {
      "image/png": "[encoded data removed]",
      "text/plain": [
       "<Figure size 864x576 with 1 Axes>"
      ]
     },
     "metadata": {},
     "output_type": "display_data"
    }
   ],
   "source": [
    "sns.countplot(df2['Sentiment'], order=['positive', 'negative', 'neutral'])\n",
    "plt.xlabel('Sentiment')\n",
    "plt.ylabel('Number of tweets')\n",
    "plt.title('Trump\\'s tweets (7 days)')\n",
    "plt.grid(False)\n",
    "plt.ylim(0, 40)"
   ]
  },
  {
   "cell_type": "code",
   "execution_count": 45,
   "metadata": {},
   "outputs": [
    {
     "data": {
      "text/plain": [
       "Text(0.5, 1.0, \"Trump's tweets distribution\")"
      ]
     },
     "execution_count": 45,
     "metadata": {},
     "output_type": "execute_result"
    },
    {
     "data": {
      "image/png": "[encoded data removed]",
      "text/plain": [
       "<Figure size 864x576 with 1 Axes>"
      ]
     },
     "metadata": {},
     "output_type": "display_data"
    }
   ],
   "source": [
    "sns.distplot(df2['compound'])\n",
    "plt.xlabel('Compound sentiment intensity')\n",
    "plt.title('Trump\\'s tweets distribution')"
   ]
  },
  {
   "cell_type": "code",
   "execution_count": 46,
   "metadata": {},
   "outputs": [
    {
     "data": {
      "text/html": [
       "<div>\n",
       "<style scoped>\n",
       "    .dataframe tbody tr th:only-of-type {\n",
       "        vertical-align: middle;\n",
       "    }\n",
       "\n",
       "    .dataframe tbody tr th {\n",
       "        vertical-align: top;\n",
       "    }\n",
       "\n",
       "    .dataframe thead th {\n",
       "        text-align: right;\n",
       "    }\n",
       "</style>\n",
       "<table border=\"1\" class=\"dataframe\">\n",
       "  <thead>\n",
       "    <tr style=\"text-align: right;\">\n",
       "      <th>Sentiment</th>\n",
       "      <th>negative</th>\n",
       "      <th>neutral</th>\n",
       "      <th>positive</th>\n",
       "    </tr>\n",
       "    <tr>\n",
       "      <th>Date</th>\n",
       "      <th></th>\n",
       "      <th></th>\n",
       "      <th></th>\n",
       "    </tr>\n",
       "  </thead>\n",
       "  <tbody>\n",
       "    <tr>\n",
       "      <th>2019-03-14 00:00:00+00:00</th>\n",
       "      <td>4.0</td>\n",
       "      <td>1.0</td>\n",
       "      <td>7.0</td>\n",
       "    </tr>\n",
       "    <tr>\n",
       "      <th>2019-03-15 00:00:00+00:00</th>\n",
       "      <td>5.0</td>\n",
       "      <td>3.0</td>\n",
       "      <td>4.0</td>\n",
       "    </tr>\n",
       "    <tr>\n",
       "      <th>2019-03-16 00:00:00+00:00</th>\n",
       "      <td>1.0</td>\n",
       "      <td>6.0</td>\n",
       "      <td>5.0</td>\n",
       "    </tr>\n",
       "    <tr>\n",
       "      <th>2019-03-17 00:00:00+00:00</th>\n",
       "      <td>8.0</td>\n",
       "      <td>1.0</td>\n",
       "      <td>5.0</td>\n",
       "    </tr>\n",
       "    <tr>\n",
       "      <th>2019-03-18 00:00:00+00:00</th>\n",
       "      <td>3.0</td>\n",
       "      <td>2.0</td>\n",
       "      <td>8.0</td>\n",
       "    </tr>\n",
       "  </tbody>\n",
       "</table>\n",
       "</div>"
      ],
      "text/plain": [
       "Sentiment                  negative  neutral  positive\n",
       "Date                                                  \n",
       "2019-03-14 00:00:00+00:00       4.0      1.0       7.0\n",
       "2019-03-15 00:00:00+00:00       5.0      3.0       4.0\n",
       "2019-03-16 00:00:00+00:00       1.0      6.0       5.0\n",
       "2019-03-17 00:00:00+00:00       8.0      1.0       5.0\n",
       "2019-03-18 00:00:00+00:00       3.0      2.0       8.0"
      ]
     },
     "execution_count": 46,
     "metadata": {},
     "output_type": "execute_result"
    }
   ],
   "source": [
    "df2_plot = df2.groupby(['Sentiment', 'Date']).size().reset_index().pivot(columns='Sentiment', index='Date', values=0)\n",
    "# df_plot['negative'] = df_plot['negative'] + 27\n",
    "# df_plot['neutral'] = df_plot['neutral'] + 27\n",
    "# df_plot['positive'] = df_plot['positive'] + 27\n",
    "df2_plot.head()"
   ]
  },
  {
   "cell_type": "code",
   "execution_count": 47,
   "metadata": {},
   "outputs": [
    {
     "data": {
      "text/html": [
       "<div>\n",
       "<style scoped>\n",
       "    .dataframe tbody tr th:only-of-type {\n",
       "        vertical-align: middle;\n",
       "    }\n",
       "\n",
       "    .dataframe tbody tr th {\n",
       "        vertical-align: top;\n",
       "    }\n",
       "\n",
       "    .dataframe thead th {\n",
       "        text-align: right;\n",
       "    }\n",
       "</style>\n",
       "<table border=\"1\" class=\"dataframe\">\n",
       "  <thead>\n",
       "    <tr style=\"text-align: right;\">\n",
       "      <th>Sentiment</th>\n",
       "      <th>positive</th>\n",
       "      <th>negative</th>\n",
       "      <th>neutral</th>\n",
       "    </tr>\n",
       "    <tr>\n",
       "      <th>Date</th>\n",
       "      <th></th>\n",
       "      <th></th>\n",
       "      <th></th>\n",
       "    </tr>\n",
       "  </thead>\n",
       "  <tbody>\n",
       "    <tr>\n",
       "      <th>2019-03-14 00:00:00+00:00</th>\n",
       "      <td>7.0</td>\n",
       "      <td>4.0</td>\n",
       "      <td>1.0</td>\n",
       "    </tr>\n",
       "    <tr>\n",
       "      <th>2019-03-15 00:00:00+00:00</th>\n",
       "      <td>4.0</td>\n",
       "      <td>5.0</td>\n",
       "      <td>3.0</td>\n",
       "    </tr>\n",
       "    <tr>\n",
       "      <th>2019-03-16 00:00:00+00:00</th>\n",
       "      <td>5.0</td>\n",
       "      <td>1.0</td>\n",
       "      <td>6.0</td>\n",
       "    </tr>\n",
       "    <tr>\n",
       "      <th>2019-03-17 00:00:00+00:00</th>\n",
       "      <td>5.0</td>\n",
       "      <td>8.0</td>\n",
       "      <td>1.0</td>\n",
       "    </tr>\n",
       "    <tr>\n",
       "      <th>2019-03-18 00:00:00+00:00</th>\n",
       "      <td>8.0</td>\n",
       "      <td>3.0</td>\n",
       "      <td>2.0</td>\n",
       "    </tr>\n",
       "  </tbody>\n",
       "</table>\n",
       "</div>"
      ],
      "text/plain": [
       "Sentiment                  positive  negative  neutral\n",
       "Date                                                  \n",
       "2019-03-14 00:00:00+00:00       7.0       4.0      1.0\n",
       "2019-03-15 00:00:00+00:00       4.0       5.0      3.0\n",
       "2019-03-16 00:00:00+00:00       5.0       1.0      6.0\n",
       "2019-03-17 00:00:00+00:00       5.0       8.0      1.0\n",
       "2019-03-18 00:00:00+00:00       8.0       3.0      2.0"
      ]
     },
     "execution_count": 47,
     "metadata": {},
     "output_type": "execute_result"
    }
   ],
   "source": [
    "df2_plot = df2_plot[['positive', 'negative', 'neutral']]\n",
    "df2_plot.head()"
   ]
  },
  {
   "cell_type": "code",
   "execution_count": 48,
   "metadata": {},
   "outputs": [
    {
     "data": {
      "text/plain": [
       "Text(0.5, 1.0, \"Trump's negative tweets daily (7 days)\")"
      ]
     },
     "execution_count": 48,
     "metadata": {},
     "output_type": "execute_result"
    },
    {
     "data": {
      "image/png": "[encoded data removed]",
      "text/plain": [
       "<Figure size 864x576 with 1 Axes>"
      ]
     },
     "metadata": {},
     "output_type": "display_data"
    }
   ],
   "source": [
    "df2_plot['negative'].plot(kind='bar', color=sns.color_palette()[1])\n",
    "plt.tick_params(\n",
    "    axis='x',          # changes apply to the x-axis\n",
    "    which='both',      # both major and minor ticks are affected\n",
    "    bottom=False,      # ticks along the bottom edge are off\n",
    "    top=False,         # ticks along the top edge are off\n",
    "    labelbottom=False)\n",
    "plt.legend()\n",
    "plt.ylim(0, 10)\n",
    "plt.grid(False)\n",
    "plt.title('Trump\\'s negative tweets daily (7 days)')"
   ]
  },
  {
   "cell_type": "code",
   "execution_count": 49,
   "metadata": {},
   "outputs": [
    {
     "data": {
      "text/plain": [
       "Text(0.5, 1.0, \"Trump's positive tweets daily (7 days)\")"
      ]
     },
     "execution_count": 49,
     "metadata": {},
     "output_type": "execute_result"
    },
    {
     "data": {
      "image/png": "[encoded data removed]",
      "text/plain": [
       "<Figure size 864x576 with 1 Axes>"
      ]
     },
     "metadata": {},
     "output_type": "display_data"
    }
   ],
   "source": [
    "df2_plot['positive'].plot(kind='bar', color=sns.color_palette()[0])\n",
    "plt.tick_params(\n",
    "    axis='x',          # changes apply to the x-axis\n",
    "    which='both',      # both major and minor ticks are affected\n",
    "    bottom=False,      # ticks along the bottom edge are off\n",
    "    top=False,         # ticks along the top edge are off\n",
    "    labelbottom=False)\n",
    "plt.legend()\n",
    "plt.ylim(0,10)\n",
    "plt.grid(False)\n",
    "plt.title('Trump\\'s positive tweets daily (7 days)')"
   ]
  },
  {
   "cell_type": "markdown",
   "metadata": {},
   "source": [
    "## 2.5 Entities extraction\n",
    "Now after cleaning the data we can extract the entities again using SpaCy and NLTK and add it to the new dataframe"
   ]
  },
  {
   "cell_type": "code",
   "execution_count": 50,
   "metadata": {},
   "outputs": [
    {
     "name": "stdout",
     "output_type": "stream",
     "text": [
      "Wall time: 829 ms\n"
     ]
    }
   ],
   "source": [
    "%%time\n",
    "entities_week = text_processed_week.apply(lambda s: get_entities(s))\n",
    "entities_week = entities_week.apply(pd.Series)"
   ]
  },
  {
   "cell_type": "code",
   "execution_count": 51,
   "metadata": {
    "scrolled": true
   },
   "outputs": [
    {
     "data": {
      "text/html": [
       "<div>\n",
       "<style scoped>\n",
       "    .dataframe tbody tr th:only-of-type {\n",
       "        vertical-align: middle;\n",
       "    }\n",
       "\n",
       "    .dataframe tbody tr th {\n",
       "        vertical-align: top;\n",
       "    }\n",
       "\n",
       "    .dataframe thead th {\n",
       "        text-align: right;\n",
       "    }\n",
       "</style>\n",
       "<table border=\"1\" class=\"dataframe\">\n",
       "  <thead>\n",
       "    <tr style=\"text-align: right;\">\n",
       "      <th></th>\n",
       "      <th>Text</th>\n",
       "      <th>len</th>\n",
       "      <th>id</th>\n",
       "      <th>Date</th>\n",
       "      <th>Likes</th>\n",
       "      <th>RTs</th>\n",
       "      <th>neg</th>\n",
       "      <th>neu</th>\n",
       "      <th>pos</th>\n",
       "      <th>compound</th>\n",
       "      <th>...</th>\n",
       "      <th>NORP</th>\n",
       "      <th>PRODUCT</th>\n",
       "      <th>LOC</th>\n",
       "      <th>GPE</th>\n",
       "      <th>DATE</th>\n",
       "      <th>WORK_OF_ART</th>\n",
       "      <th>CARDINAL</th>\n",
       "      <th>ORDINAL</th>\n",
       "      <th>TIME</th>\n",
       "      <th>EVENT</th>\n",
       "    </tr>\n",
       "  </thead>\n",
       "  <tbody>\n",
       "    <tr>\n",
       "      <th>0</th>\n",
       "      <td>George Conway, often referred to as Mr. Kellya...</td>\n",
       "      <td>286</td>\n",
       "      <td>1108335293671845888</td>\n",
       "      <td>2019-03-20 00:00:00+00:00</td>\n",
       "      <td>86502</td>\n",
       "      <td>19001</td>\n",
       "      <td>0.285</td>\n",
       "      <td>0.652</td>\n",
       "      <td>0.062</td>\n",
       "      <td>-0.9519</td>\n",
       "      <td>...</td>\n",
       "      <td>NaN</td>\n",
       "      <td>NaN</td>\n",
       "      <td>NaN</td>\n",
       "      <td>NaN</td>\n",
       "      <td>NaN</td>\n",
       "      <td>NaN</td>\n",
       "      <td>NaN</td>\n",
       "      <td>NaN</td>\n",
       "      <td>NaN</td>\n",
       "      <td>NaN</td>\n",
       "    </tr>\n",
       "    <tr>\n",
       "      <th>1</th>\n",
       "      <td>The Democrats are getting very “strange.” They...</td>\n",
       "      <td>233</td>\n",
       "      <td>1108217768187449344</td>\n",
       "      <td>2019-03-20 00:00:00+00:00</td>\n",
       "      <td>98159</td>\n",
       "      <td>25851</td>\n",
       "      <td>0.000</td>\n",
       "      <td>0.730</td>\n",
       "      <td>0.270</td>\n",
       "      <td>0.8908</td>\n",
       "      <td>...</td>\n",
       "      <td>1.0</td>\n",
       "      <td>1.0</td>\n",
       "      <td>NaN</td>\n",
       "      <td>NaN</td>\n",
       "      <td>NaN</td>\n",
       "      <td>NaN</td>\n",
       "      <td>NaN</td>\n",
       "      <td>NaN</td>\n",
       "      <td>NaN</td>\n",
       "      <td>NaN</td>\n",
       "    </tr>\n",
       "    <tr>\n",
       "      <th>2</th>\n",
       "      <td>Not a good situation! https://t.co/uaMcSrX4yM</td>\n",
       "      <td>45</td>\n",
       "      <td>1108214845294428161</td>\n",
       "      <td>2019-03-20 00:00:00+00:00</td>\n",
       "      <td>64043</td>\n",
       "      <td>19040</td>\n",
       "      <td>0.473</td>\n",
       "      <td>0.527</td>\n",
       "      <td>0.000</td>\n",
       "      <td>-0.4015</td>\n",
       "      <td>...</td>\n",
       "      <td>NaN</td>\n",
       "      <td>NaN</td>\n",
       "      <td>NaN</td>\n",
       "      <td>NaN</td>\n",
       "      <td>NaN</td>\n",
       "      <td>NaN</td>\n",
       "      <td>NaN</td>\n",
       "      <td>NaN</td>\n",
       "      <td>NaN</td>\n",
       "      <td>NaN</td>\n",
       "    </tr>\n",
       "    <tr>\n",
       "      <th>3</th>\n",
       "      <td>....just the large States - the Cities would e...</td>\n",
       "      <td>288</td>\n",
       "      <td>1108190837257764864</td>\n",
       "      <td>2019-03-20 00:00:00+00:00</td>\n",
       "      <td>102006</td>\n",
       "      <td>24900</td>\n",
       "      <td>0.032</td>\n",
       "      <td>0.835</td>\n",
       "      <td>0.133</td>\n",
       "      <td>0.6908</td>\n",
       "      <td>...</td>\n",
       "      <td>NaN</td>\n",
       "      <td>NaN</td>\n",
       "      <td>1.0</td>\n",
       "      <td>1.0</td>\n",
       "      <td>NaN</td>\n",
       "      <td>NaN</td>\n",
       "      <td>NaN</td>\n",
       "      <td>NaN</td>\n",
       "      <td>NaN</td>\n",
       "      <td>NaN</td>\n",
       "    </tr>\n",
       "    <tr>\n",
       "      <th>4</th>\n",
       "      <td>Campaigning for the Popular Vote is much easie...</td>\n",
       "      <td>284</td>\n",
       "      <td>1108187855954870272</td>\n",
       "      <td>2019-03-20 00:00:00+00:00</td>\n",
       "      <td>78409</td>\n",
       "      <td>20547</td>\n",
       "      <td>0.000</td>\n",
       "      <td>0.698</td>\n",
       "      <td>0.302</td>\n",
       "      <td>0.9559</td>\n",
       "      <td>...</td>\n",
       "      <td>NaN</td>\n",
       "      <td>NaN</td>\n",
       "      <td>NaN</td>\n",
       "      <td>1.0</td>\n",
       "      <td>NaN</td>\n",
       "      <td>NaN</td>\n",
       "      <td>NaN</td>\n",
       "      <td>NaN</td>\n",
       "      <td>NaN</td>\n",
       "      <td>NaN</td>\n",
       "    </tr>\n",
       "  </tbody>\n",
       "</table>\n",
       "<p>5 rows × 23 columns</p>\n",
       "</div>"
      ],
      "text/plain": [
       "                                                Text  len  \\\n",
       "0  George Conway, often referred to as Mr. Kellya...  286   \n",
       "1  The Democrats are getting very “strange.” They...  233   \n",
       "2      Not a good situation! https://t.co/uaMcSrX4yM   45   \n",
       "3  ....just the large States - the Cities would e...  288   \n",
       "4  Campaigning for the Popular Vote is much easie...  284   \n",
       "\n",
       "                    id                      Date   Likes    RTs    neg    neu  \\\n",
       "0  1108335293671845888 2019-03-20 00:00:00+00:00   86502  19001  0.285  0.652   \n",
       "1  1108217768187449344 2019-03-20 00:00:00+00:00   98159  25851  0.000  0.730   \n",
       "2  1108214845294428161 2019-03-20 00:00:00+00:00   64043  19040  0.473  0.527   \n",
       "3  1108190837257764864 2019-03-20 00:00:00+00:00  102006  24900  0.032  0.835   \n",
       "4  1108187855954870272 2019-03-20 00:00:00+00:00   78409  20547  0.000  0.698   \n",
       "\n",
       "     pos  compound  ... NORP  PRODUCT  LOC  GPE  DATE  WORK_OF_ART  CARDINAL  \\\n",
       "0  0.062   -0.9519  ...  NaN      NaN  NaN  NaN   NaN          NaN       NaN   \n",
       "1  0.270    0.8908  ...  1.0      1.0  NaN  NaN   NaN          NaN       NaN   \n",
       "2  0.000   -0.4015  ...  NaN      NaN  NaN  NaN   NaN          NaN       NaN   \n",
       "3  0.133    0.6908  ...  NaN      NaN  1.0  1.0   NaN          NaN       NaN   \n",
       "4  0.302    0.9559  ...  NaN      NaN  NaN  1.0   NaN          NaN       NaN   \n",
       "\n",
       "   ORDINAL  TIME  EVENT  \n",
       "0      NaN   NaN    NaN  \n",
       "1      NaN   NaN    NaN  \n",
       "2      NaN   NaN    NaN  \n",
       "3      NaN   NaN    NaN  \n",
       "4      NaN   NaN    NaN  \n",
       "\n",
       "[5 rows x 23 columns]"
      ]
     },
     "execution_count": 51,
     "metadata": {},
     "output_type": "execute_result"
    }
   ],
   "source": [
    "df2 = pd.concat([df2, entities_week], axis=1)\n",
    "df2.head()"
   ]
  },
  {
   "cell_type": "markdown",
   "metadata": {},
   "source": [
    "Let's take a look at the entities distributions for tweets with positive and negative sentiments to know what Trump tweets about and in which context."
   ]
  },
  {
   "cell_type": "code",
   "execution_count": 52,
   "metadata": {},
   "outputs": [
    {
     "data": {
      "image/png": "[encoded data removed]",
      "text/plain": [
       "<Figure size 864x576 with 1 Axes>"
      ]
     },
     "metadata": {},
     "output_type": "display_data"
    }
   ],
   "source": [
    "counters = {}\n",
    "df2_plot = df2.loc[df2['Sentiment'] == 'positive']\n",
    "\n",
    "for column in entities_week.columns:\n",
    "    counters.update({column: df2_plot[column].sum()})\n",
    "\n",
    "df2_entities_distribution = pd.DataFrame.from_dict(counters, orient='index', columns=['Count']).sort_values(by='Count')\n",
    "\n",
    "sns.barplot(data=df2_entities_distribution, x='Count', y=df2_entities_distribution.index)\n",
    "plt.title('Entities extracted from Trump\\'s positive tweets (7 days)')\n",
    "plt.xlim(0,50)\n",
    "plt.grid(False)"
   ]
  },
  {
   "cell_type": "code",
   "execution_count": 53,
   "metadata": {
    "scrolled": true
   },
   "outputs": [
    {
     "data": {
      "image/png": "[encoded data removed]",
      "text/plain": [
       "<Figure size 864x576 with 1 Axes>"
      ]
     },
     "metadata": {},
     "output_type": "display_data"
    }
   ],
   "source": [
    "counters = {}\n",
    "df2_plot = df2.loc[df2['Sentiment'] == 'negative']\n",
    "\n",
    "for column in entities_week.columns:\n",
    "    counters.update({column: df2_plot[column].sum()})\n",
    "\n",
    "df2_entities_distribution = pd.DataFrame.from_dict(counters, orient='index', columns=['Count']).sort_values(by='Count')\n",
    "\n",
    "sns.barplot(data=df2_entities_distribution, x='Count', y=df2_entities_distribution.index)\n",
    "plt.title('Entities extracted from Trump\\'s negative tweets (7 days)')\n",
    "plt.xlim(0,50)\n",
    "plt.grid(False)"
   ]
  },
  {
   "cell_type": "markdown",
   "metadata": {},
   "source": [
    "## 3.1 Collection of mentions"
   ]
  },
  {
   "cell_type": "markdown",
   "metadata": {},
   "source": [
    "Now as we collected all Trump's tweets for the desired period, we can loop through the same period and actually collect tweets that contain mentions of him"
   ]
  },
  {
   "cell_type": "code",
   "execution_count": 54,
   "metadata": {},
   "outputs": [],
   "source": [
    "def collect_mentions(tweets, file):\n",
    "    \"\"\"\n",
    "    collect replies for all the collected tweets of the specified account,\n",
    "    query gets 100 replies per page, 10 pages give 1000 replies in total,\n",
    "    then compares with desired parameters,\n",
    "    finally saves results to file.\n",
    "    \n",
    "    \"\"\"\n",
    "    for i in range(7):\n",
    "        day=14+i\n",
    "        until_date='2019-03-{}'.format(day)\n",
    "        print(until_date)\n",
    "        for status in tweepy.Cursor(\n",
    "            api.search,\n",
    "            # filter tweets by replies to @name and exclude retweets\n",
    "            q='to:' + name + ' -filter:retweets',\n",
    "            #since_id=tweet['id'],\n",
    "            #count=10,\n",
    "            until=until_date,\n",
    "            # specifiy what type of search results you would prefer to receive. \n",
    "            # default is \"mixed\"\n",
    "            result_type='recent',\n",
    "            tweet_mode='extended').items(1000):\n",
    "            #for status in page:\n",
    "            if hasattr(status, 'in_reply_to_status_id_str'):\n",
    "                    #if status.in_reply_to_status_id_str == tweet['id_str']:\n",
    "                    #logging.info('Found a reply to the tweet with id=',\n",
    "                                    #status.in_reply_to_status_id_str,\n",
    "                                    #'text=' + status.full_text)\n",
    "                replies.append(status._json)\n",
    "                    #logging.info('Reply added to the list. Continue...')\n",
    "    \n",
    "    json.dump(replies, file, indent=2)"
   ]
  },
  {
   "cell_type": "code",
   "execution_count": 55,
   "metadata": {},
   "outputs": [
    {
     "name": "stdout",
     "output_type": "stream",
     "text": [
      "Wall time: 481 ms\n"
     ]
    }
   ],
   "source": [
    "%%time\n",
    "if os.path.isfile('mentions.json') and not os.stat('mentions.json').st_size == 0:\n",
    "    logging.info('File mentions.json already exists! Reading the file..')\n",
    "    file = open('mentions.json', 'r', encoding='utf8')\n",
    "    replies = json.load(file)\n",
    "    file.close()\n",
    "else:\n",
    "    logging.info('Creating mentions.json, collecting tweets..')\n",
    "    file = open('mentions.json', 'w', encoding='utf8')\n",
    "    replies = []\n",
    "    collect_mentions(tweets, file)\n",
    "    file.close()"
   ]
  },
  {
   "cell_type": "code",
   "execution_count": 56,
   "metadata": {},
   "outputs": [
    {
     "data": {
      "text/html": [
       "<div>\n",
       "<style scoped>\n",
       "    .dataframe tbody tr th:only-of-type {\n",
       "        vertical-align: middle;\n",
       "    }\n",
       "\n",
       "    .dataframe tbody tr th {\n",
       "        vertical-align: top;\n",
       "    }\n",
       "\n",
       "    .dataframe thead th {\n",
       "        text-align: right;\n",
       "    }\n",
       "</style>\n",
       "<table border=\"1\" class=\"dataframe\">\n",
       "  <thead>\n",
       "    <tr style=\"text-align: right;\">\n",
       "      <th></th>\n",
       "      <th>Text</th>\n",
       "    </tr>\n",
       "  </thead>\n",
       "  <tbody>\n",
       "    <tr>\n",
       "      <th>0</th>\n",
       "      <td>@realDonaldTrump Let’s focus on sex traffickin...</td>\n",
       "    </tr>\n",
       "    <tr>\n",
       "      <th>1</th>\n",
       "      <td>@realDonaldTrump I don't fly, it's just not na...</td>\n",
       "    </tr>\n",
       "    <tr>\n",
       "      <th>2</th>\n",
       "      <td>@realDonaldTrump More lies from the dotard!</td>\n",
       "    </tr>\n",
       "    <tr>\n",
       "      <th>3</th>\n",
       "      <td>@realDonaldTrump @POTUS @FoxNews You should do...</td>\n",
       "    </tr>\n",
       "    <tr>\n",
       "      <th>4</th>\n",
       "      <td>@realDonaldTrump @FoxNews You sound worried, t...</td>\n",
       "    </tr>\n",
       "    <tr>\n",
       "      <th>5</th>\n",
       "      <td>@realDonaldTrump CONSPIRACY / #Treason: Just L...</td>\n",
       "    </tr>\n",
       "    <tr>\n",
       "      <th>6</th>\n",
       "      <td>@realDonaldTrump Support Trump</td>\n",
       "    </tr>\n",
       "    <tr>\n",
       "      <th>7</th>\n",
       "      <td>@realDonaldTrump Justice will be served when y...</td>\n",
       "    </tr>\n",
       "    <tr>\n",
       "      <th>8</th>\n",
       "      <td>@realDonaldTrump @FoxNews Mueller was hired to...</td>\n",
       "    </tr>\n",
       "    <tr>\n",
       "      <th>9</th>\n",
       "      <td>@realDonaldTrump I N D I V I D U A L   N U M B...</td>\n",
       "    </tr>\n",
       "  </tbody>\n",
       "</table>\n",
       "</div>"
      ],
      "text/plain": [
       "                                                Text\n",
       "0  @realDonaldTrump Let’s focus on sex traffickin...\n",
       "1  @realDonaldTrump I don't fly, it's just not na...\n",
       "2        @realDonaldTrump More lies from the dotard!\n",
       "3  @realDonaldTrump @POTUS @FoxNews You should do...\n",
       "4  @realDonaldTrump @FoxNews You sound worried, t...\n",
       "5  @realDonaldTrump CONSPIRACY / #Treason: Just L...\n",
       "6                     @realDonaldTrump Support Trump\n",
       "7  @realDonaldTrump Justice will be served when y...\n",
       "8  @realDonaldTrump @FoxNews Mueller was hired to...\n",
       "9  @realDonaldTrump I N D I V I D U A L   N U M B..."
      ]
     },
     "execution_count": 56,
     "metadata": {},
     "output_type": "execute_result"
    }
   ],
   "source": [
    "df_mentions = pd.DataFrame(data=[reply['full_text'] for reply in replies], columns=['Text'])\n",
    "df_mentions.head(10)"
   ]
  },
  {
   "cell_type": "code",
   "execution_count": 57,
   "metadata": {},
   "outputs": [
    {
     "name": "stdout",
     "output_type": "stream",
     "text": [
      "id: 1105981867071848449\n",
      "date: Wed Mar 13 23:59:59 +0000 2019\n",
      "likes: 0\n",
      "retweets: 0\n",
      "{'hashtags': [], 'symbols': [], 'user_mentions': [{'screen_name': 'realDonaldTrump', 'name': 'Donald J. Trump', 'id': 25073877, 'id_str': '25073877', 'indices': [0, 16]}], 'urls': []}\n"
     ]
    }
   ],
   "source": [
    "print('id:',replies[0]['id'])\n",
    "print('date:',replies[0]['created_at'])\n",
    "print('likes:',replies[0]['favorite_count'])\n",
    "print('retweets:',replies[0]['retweet_count'])\n",
    "print(replies[0]['entities'])"
   ]
  },
  {
   "cell_type": "code",
   "execution_count": 58,
   "metadata": {},
   "outputs": [
    {
     "data": {
      "text/html": [
       "<div>\n",
       "<style scoped>\n",
       "    .dataframe tbody tr th:only-of-type {\n",
       "        vertical-align: middle;\n",
       "    }\n",
       "\n",
       "    .dataframe tbody tr th {\n",
       "        vertical-align: top;\n",
       "    }\n",
       "\n",
       "    .dataframe thead th {\n",
       "        text-align: right;\n",
       "    }\n",
       "</style>\n",
       "<table border=\"1\" class=\"dataframe\">\n",
       "  <thead>\n",
       "    <tr style=\"text-align: right;\">\n",
       "      <th></th>\n",
       "      <th>Text</th>\n",
       "      <th>len</th>\n",
       "      <th>id</th>\n",
       "      <th>Date</th>\n",
       "      <th>Likes</th>\n",
       "      <th>RTs</th>\n",
       "    </tr>\n",
       "  </thead>\n",
       "  <tbody>\n",
       "    <tr>\n",
       "      <th>0</th>\n",
       "      <td>@realDonaldTrump Let’s focus on sex traffickin...</td>\n",
       "      <td>69</td>\n",
       "      <td>1105981867071848449</td>\n",
       "      <td>2019-03-13 00:00:00+00:00</td>\n",
       "      <td>0</td>\n",
       "      <td>0</td>\n",
       "    </tr>\n",
       "    <tr>\n",
       "      <th>1</th>\n",
       "      <td>@realDonaldTrump I don't fly, it's just not na...</td>\n",
       "      <td>81</td>\n",
       "      <td>1105981865981345792</td>\n",
       "      <td>2019-03-13 00:00:00+00:00</td>\n",
       "      <td>0</td>\n",
       "      <td>0</td>\n",
       "    </tr>\n",
       "    <tr>\n",
       "      <th>2</th>\n",
       "      <td>@realDonaldTrump More lies from the dotard!</td>\n",
       "      <td>43</td>\n",
       "      <td>1105981864995680256</td>\n",
       "      <td>2019-03-13 00:00:00+00:00</td>\n",
       "      <td>2</td>\n",
       "      <td>0</td>\n",
       "    </tr>\n",
       "    <tr>\n",
       "      <th>3</th>\n",
       "      <td>@realDonaldTrump @POTUS @FoxNews You should do...</td>\n",
       "      <td>199</td>\n",
       "      <td>1105981864987246592</td>\n",
       "      <td>2019-03-13 00:00:00+00:00</td>\n",
       "      <td>0</td>\n",
       "      <td>0</td>\n",
       "    </tr>\n",
       "    <tr>\n",
       "      <th>4</th>\n",
       "      <td>@realDonaldTrump @FoxNews You sound worried, t...</td>\n",
       "      <td>53</td>\n",
       "      <td>1105981862789505026</td>\n",
       "      <td>2019-03-13 00:00:00+00:00</td>\n",
       "      <td>0</td>\n",
       "      <td>0</td>\n",
       "    </tr>\n",
       "  </tbody>\n",
       "</table>\n",
       "</div>"
      ],
      "text/plain": [
       "                                                Text  len  \\\n",
       "0  @realDonaldTrump Let’s focus on sex traffickin...   69   \n",
       "1  @realDonaldTrump I don't fly, it's just not na...   81   \n",
       "2        @realDonaldTrump More lies from the dotard!   43   \n",
       "3  @realDonaldTrump @POTUS @FoxNews You should do...  199   \n",
       "4  @realDonaldTrump @FoxNews You sound worried, t...   53   \n",
       "\n",
       "                    id                      Date  Likes  RTs  \n",
       "0  1105981867071848449 2019-03-13 00:00:00+00:00      0    0  \n",
       "1  1105981865981345792 2019-03-13 00:00:00+00:00      0    0  \n",
       "2  1105981864995680256 2019-03-13 00:00:00+00:00      2    0  \n",
       "3  1105981864987246592 2019-03-13 00:00:00+00:00      0    0  \n",
       "4  1105981862789505026 2019-03-13 00:00:00+00:00      0    0  "
      ]
     },
     "execution_count": 58,
     "metadata": {},
     "output_type": "execute_result"
    }
   ],
   "source": [
    "df_mentions['len'] = np.array([len(reply['full_text']) for reply in replies])\n",
    "df_mentions['id'] = np.array([reply['id'] for reply in replies])\n",
    "df_mentions['Date'] = pd.DatetimeIndex(pd.to_datetime([reply['created_at'] for reply in replies])).normalize()\n",
    "df_mentions['Likes'] = np.array([reply['favorite_count'] for reply in replies])\n",
    "df_mentions['RTs'] = np.array([reply['retweet_count'] for reply in replies])\n",
    "df_mentions.head()"
   ]
  },
  {
   "cell_type": "code",
   "execution_count": 59,
   "metadata": {},
   "outputs": [
    {
     "data": {
      "text/plain": [
       "2019-03-15 00:00:00+00:00    1000\n",
       "2019-03-19 00:00:00+00:00    1000\n",
       "2019-03-14 00:00:00+00:00    1000\n",
       "2019-03-18 00:00:00+00:00    1000\n",
       "2019-03-13 00:00:00+00:00    1000\n",
       "2019-03-17 00:00:00+00:00    1000\n",
       "2019-03-16 00:00:00+00:00    1000\n",
       "Name: Date, dtype: int64"
      ]
     },
     "execution_count": 59,
     "metadata": {},
     "output_type": "execute_result"
    }
   ],
   "source": [
    "df_mentions['Date'].value_counts()"
   ]
  },
  {
   "cell_type": "code",
   "execution_count": 60,
   "metadata": {},
   "outputs": [
    {
     "data": {
      "text/plain": [
       "(Timestamp('2019-03-13 00:00:00+0000', tz='UTC'),\n",
       " Timestamp('2019-03-19 00:00:00+0000', tz='UTC'))"
      ]
     },
     "execution_count": 60,
     "metadata": {},
     "output_type": "execute_result"
    }
   ],
   "source": [
    "min(df_mentions.Date), max(df_mentions.Date)"
   ]
  },
  {
   "cell_type": "code",
   "execution_count": 61,
   "metadata": {},
   "outputs": [
    {
     "data": {
      "text/plain": [
       "(7000, 6)"
      ]
     },
     "execution_count": 61,
     "metadata": {},
     "output_type": "execute_result"
    }
   ],
   "source": [
    "df_mentions.shape"
   ]
  },
  {
   "cell_type": "markdown",
   "metadata": {},
   "source": [
    "### 3.2 Natural Language Processing (Mentions)\n",
    "\n",
    "### 3.2.1 Data preprocessing\n",
    "\n",
    "Now lets do some preprocessing to prepare it for the entities extraction"
   ]
  },
  {
   "cell_type": "code",
   "execution_count": 62,
   "metadata": {},
   "outputs": [],
   "source": [
    "# remove @user mentions, # hashtag symbol, URLs, emoji etc.\n",
    "# check the package documentation for info\n",
    "# pre.set_options(pre.OPT.URL, pre.OPT.EMOJI, pre.OPT.MENTION, pre.OPT.RESERVED, pre.OPT.SMILEY, pre.OPT.NUMBER)\n",
    "text_processed_mentions = df_mentions['Text'].apply(lambda s: pre.clean(s))\n",
    "\n",
    "# removing all non alpha-numeric symbols\n",
    "text_processed_mentions = text_processed_mentions.apply(lambda s: re.sub(r'[^A-Za-z0-9 ]', '', s))\n",
    "\n",
    "# removing stop words\n",
    "text_processed_mentions = text_processed_mentions.apply(lambda s: ' '.join(word for word in s.split() if word not in stop_words))"
   ]
  },
  {
   "cell_type": "code",
   "execution_count": 63,
   "metadata": {},
   "outputs": [
    {
     "name": "stdout",
     "output_type": "stream",
     "text": [
      "Before:\n",
      "@realDonaldTrump I N D I V I D U A L   N U M B E R    O N E\n",
      "\n",
      "After:\n",
      "I N D I V I D U A L N U M B E R O N E\n"
     ]
    }
   ],
   "source": [
    "print('Before:\\n' + df_mentions['Text'][9] + '\\n\\nAfter:\\n' + text_processed_mentions[9])"
   ]
  },
  {
   "cell_type": "markdown",
   "metadata": {},
   "source": [
    "## 3.3 Sentiment Analysis\n",
    "Now we'll calculate the sentiment intensity for tweets that mentions Trump"
   ]
  },
  {
   "cell_type": "code",
   "execution_count": 64,
   "metadata": {},
   "outputs": [
    {
     "data": {
      "text/html": [
       "<div>\n",
       "<style scoped>\n",
       "    .dataframe tbody tr th:only-of-type {\n",
       "        vertical-align: middle;\n",
       "    }\n",
       "\n",
       "    .dataframe tbody tr th {\n",
       "        vertical-align: top;\n",
       "    }\n",
       "\n",
       "    .dataframe thead th {\n",
       "        text-align: right;\n",
       "    }\n",
       "</style>\n",
       "<table border=\"1\" class=\"dataframe\">\n",
       "  <thead>\n",
       "    <tr style=\"text-align: right;\">\n",
       "      <th></th>\n",
       "      <th>Text</th>\n",
       "      <th>len</th>\n",
       "      <th>id</th>\n",
       "      <th>Date</th>\n",
       "      <th>Likes</th>\n",
       "      <th>RTs</th>\n",
       "      <th>neg</th>\n",
       "      <th>neu</th>\n",
       "      <th>pos</th>\n",
       "      <th>compound</th>\n",
       "    </tr>\n",
       "  </thead>\n",
       "  <tbody>\n",
       "    <tr>\n",
       "      <th>0</th>\n",
       "      <td>@realDonaldTrump Let’s focus on sex traffickin...</td>\n",
       "      <td>69</td>\n",
       "      <td>1105981867071848449</td>\n",
       "      <td>2019-03-13 00:00:00+00:00</td>\n",
       "      <td>0</td>\n",
       "      <td>0</td>\n",
       "      <td>0.000</td>\n",
       "      <td>0.763</td>\n",
       "      <td>0.237</td>\n",
       "      <td>0.4215</td>\n",
       "    </tr>\n",
       "    <tr>\n",
       "      <th>1</th>\n",
       "      <td>@realDonaldTrump I don't fly, it's just not na...</td>\n",
       "      <td>81</td>\n",
       "      <td>1105981865981345792</td>\n",
       "      <td>2019-03-13 00:00:00+00:00</td>\n",
       "      <td>0</td>\n",
       "      <td>0</td>\n",
       "      <td>0.150</td>\n",
       "      <td>0.850</td>\n",
       "      <td>0.000</td>\n",
       "      <td>-0.2755</td>\n",
       "    </tr>\n",
       "    <tr>\n",
       "      <th>2</th>\n",
       "      <td>@realDonaldTrump More lies from the dotard!</td>\n",
       "      <td>43</td>\n",
       "      <td>1105981864995680256</td>\n",
       "      <td>2019-03-13 00:00:00+00:00</td>\n",
       "      <td>2</td>\n",
       "      <td>0</td>\n",
       "      <td>0.404</td>\n",
       "      <td>0.596</td>\n",
       "      <td>0.000</td>\n",
       "      <td>-0.5244</td>\n",
       "    </tr>\n",
       "    <tr>\n",
       "      <th>3</th>\n",
       "      <td>@realDonaldTrump @POTUS @FoxNews You should do...</td>\n",
       "      <td>199</td>\n",
       "      <td>1105981864987246592</td>\n",
       "      <td>2019-03-13 00:00:00+00:00</td>\n",
       "      <td>0</td>\n",
       "      <td>0</td>\n",
       "      <td>0.072</td>\n",
       "      <td>0.694</td>\n",
       "      <td>0.234</td>\n",
       "      <td>0.6808</td>\n",
       "    </tr>\n",
       "    <tr>\n",
       "      <th>4</th>\n",
       "      <td>@realDonaldTrump @FoxNews You sound worried, t...</td>\n",
       "      <td>53</td>\n",
       "      <td>1105981862789505026</td>\n",
       "      <td>2019-03-13 00:00:00+00:00</td>\n",
       "      <td>0</td>\n",
       "      <td>0</td>\n",
       "      <td>0.545</td>\n",
       "      <td>0.455</td>\n",
       "      <td>0.000</td>\n",
       "      <td>-0.7177</td>\n",
       "    </tr>\n",
       "  </tbody>\n",
       "</table>\n",
       "</div>"
      ],
      "text/plain": [
       "                                                Text  len  \\\n",
       "0  @realDonaldTrump Let’s focus on sex traffickin...   69   \n",
       "1  @realDonaldTrump I don't fly, it's just not na...   81   \n",
       "2        @realDonaldTrump More lies from the dotard!   43   \n",
       "3  @realDonaldTrump @POTUS @FoxNews You should do...  199   \n",
       "4  @realDonaldTrump @FoxNews You sound worried, t...   53   \n",
       "\n",
       "                    id                      Date  Likes  RTs    neg    neu  \\\n",
       "0  1105981867071848449 2019-03-13 00:00:00+00:00      0    0  0.000  0.763   \n",
       "1  1105981865981345792 2019-03-13 00:00:00+00:00      0    0  0.150  0.850   \n",
       "2  1105981864995680256 2019-03-13 00:00:00+00:00      2    0  0.404  0.596   \n",
       "3  1105981864987246592 2019-03-13 00:00:00+00:00      0    0  0.072  0.694   \n",
       "4  1105981862789505026 2019-03-13 00:00:00+00:00      0    0  0.545  0.455   \n",
       "\n",
       "     pos  compound  \n",
       "0  0.237    0.4215  \n",
       "1  0.000   -0.2755  \n",
       "2  0.000   -0.5244  \n",
       "3  0.234    0.6808  \n",
       "4  0.000   -0.7177  "
      ]
     },
     "execution_count": 64,
     "metadata": {},
     "output_type": "execute_result"
    }
   ],
   "source": [
    "analyzer_mentions = SentimentIntensityAnalyzer()\n",
    "\n",
    "sentiment_intensity_mentions = df_mentions['Text'].apply(lambda s: analyzer_mentions.polarity_scores(s))\n",
    "sentiment_intensity_mentions = sentiment_intensity_mentions.apply(pd.Series)\n",
    "df_mentions = pd.concat([df_mentions, sentiment_intensity_mentions], axis=1)\n",
    "\n",
    "df_mentions.head()"
   ]
  },
  {
   "cell_type": "code",
   "execution_count": 65,
   "metadata": {},
   "outputs": [
    {
     "data": {
      "text/html": [
       "<div>\n",
       "<style scoped>\n",
       "    .dataframe tbody tr th:only-of-type {\n",
       "        vertical-align: middle;\n",
       "    }\n",
       "\n",
       "    .dataframe tbody tr th {\n",
       "        vertical-align: top;\n",
       "    }\n",
       "\n",
       "    .dataframe thead th {\n",
       "        text-align: right;\n",
       "    }\n",
       "</style>\n",
       "<table border=\"1\" class=\"dataframe\">\n",
       "  <thead>\n",
       "    <tr style=\"text-align: right;\">\n",
       "      <th></th>\n",
       "      <th>Text</th>\n",
       "      <th>len</th>\n",
       "      <th>id</th>\n",
       "      <th>Date</th>\n",
       "      <th>Likes</th>\n",
       "      <th>RTs</th>\n",
       "      <th>neg</th>\n",
       "      <th>neu</th>\n",
       "      <th>pos</th>\n",
       "      <th>compound</th>\n",
       "      <th>Sentiment</th>\n",
       "    </tr>\n",
       "  </thead>\n",
       "  <tbody>\n",
       "    <tr>\n",
       "      <th>0</th>\n",
       "      <td>@realDonaldTrump Let’s focus on sex traffickin...</td>\n",
       "      <td>69</td>\n",
       "      <td>1105981867071848449</td>\n",
       "      <td>2019-03-13 00:00:00+00:00</td>\n",
       "      <td>0</td>\n",
       "      <td>0</td>\n",
       "      <td>0.000</td>\n",
       "      <td>0.763</td>\n",
       "      <td>0.237</td>\n",
       "      <td>0.4215</td>\n",
       "      <td>positive</td>\n",
       "    </tr>\n",
       "    <tr>\n",
       "      <th>1</th>\n",
       "      <td>@realDonaldTrump I don't fly, it's just not na...</td>\n",
       "      <td>81</td>\n",
       "      <td>1105981865981345792</td>\n",
       "      <td>2019-03-13 00:00:00+00:00</td>\n",
       "      <td>0</td>\n",
       "      <td>0</td>\n",
       "      <td>0.150</td>\n",
       "      <td>0.850</td>\n",
       "      <td>0.000</td>\n",
       "      <td>-0.2755</td>\n",
       "      <td>negative</td>\n",
       "    </tr>\n",
       "    <tr>\n",
       "      <th>2</th>\n",
       "      <td>@realDonaldTrump More lies from the dotard!</td>\n",
       "      <td>43</td>\n",
       "      <td>1105981864995680256</td>\n",
       "      <td>2019-03-13 00:00:00+00:00</td>\n",
       "      <td>2</td>\n",
       "      <td>0</td>\n",
       "      <td>0.404</td>\n",
       "      <td>0.596</td>\n",
       "      <td>0.000</td>\n",
       "      <td>-0.5244</td>\n",
       "      <td>negative</td>\n",
       "    </tr>\n",
       "    <tr>\n",
       "      <th>3</th>\n",
       "      <td>@realDonaldTrump @POTUS @FoxNews You should do...</td>\n",
       "      <td>199</td>\n",
       "      <td>1105981864987246592</td>\n",
       "      <td>2019-03-13 00:00:00+00:00</td>\n",
       "      <td>0</td>\n",
       "      <td>0</td>\n",
       "      <td>0.072</td>\n",
       "      <td>0.694</td>\n",
       "      <td>0.234</td>\n",
       "      <td>0.6808</td>\n",
       "      <td>positive</td>\n",
       "    </tr>\n",
       "    <tr>\n",
       "      <th>4</th>\n",
       "      <td>@realDonaldTrump @FoxNews You sound worried, t...</td>\n",
       "      <td>53</td>\n",
       "      <td>1105981862789505026</td>\n",
       "      <td>2019-03-13 00:00:00+00:00</td>\n",
       "      <td>0</td>\n",
       "      <td>0</td>\n",
       "      <td>0.545</td>\n",
       "      <td>0.455</td>\n",
       "      <td>0.000</td>\n",
       "      <td>-0.7177</td>\n",
       "      <td>negative</td>\n",
       "    </tr>\n",
       "  </tbody>\n",
       "</table>\n",
       "</div>"
      ],
      "text/plain": [
       "                                                Text  len  \\\n",
       "0  @realDonaldTrump Let’s focus on sex traffickin...   69   \n",
       "1  @realDonaldTrump I don't fly, it's just not na...   81   \n",
       "2        @realDonaldTrump More lies from the dotard!   43   \n",
       "3  @realDonaldTrump @POTUS @FoxNews You should do...  199   \n",
       "4  @realDonaldTrump @FoxNews You sound worried, t...   53   \n",
       "\n",
       "                    id                      Date  Likes  RTs    neg    neu  \\\n",
       "0  1105981867071848449 2019-03-13 00:00:00+00:00      0    0  0.000  0.763   \n",
       "1  1105981865981345792 2019-03-13 00:00:00+00:00      0    0  0.150  0.850   \n",
       "2  1105981864995680256 2019-03-13 00:00:00+00:00      2    0  0.404  0.596   \n",
       "3  1105981864987246592 2019-03-13 00:00:00+00:00      0    0  0.072  0.694   \n",
       "4  1105981862789505026 2019-03-13 00:00:00+00:00      0    0  0.545  0.455   \n",
       "\n",
       "     pos  compound Sentiment  \n",
       "0  0.237    0.4215  positive  \n",
       "1  0.000   -0.2755  negative  \n",
       "2  0.000   -0.5244  negative  \n",
       "3  0.234    0.6808  positive  \n",
       "4  0.000   -0.7177  negative  "
      ]
     },
     "execution_count": 65,
     "metadata": {},
     "output_type": "execute_result"
    }
   ],
   "source": [
    "df_mentions.loc[(df_mentions['compound'] > -.05) & (df_mentions['compound'] < .05), 'Sentiment'] = 'neutral'\n",
    "df_mentions.loc[df_mentions['compound'] <= -.05, 'Sentiment'] = 'negative'\n",
    "df_mentions.loc[df_mentions['compound'] >= .05, 'Sentiment'] = 'positive'\n",
    "df_mentions.head()"
   ]
  },
  {
   "cell_type": "code",
   "execution_count": 66,
   "metadata": {},
   "outputs": [
    {
     "data": {
      "text/plain": [
       "Counter({'positive': 2024, 'negative': 2344, 'neutral': 2632})"
      ]
     },
     "execution_count": 66,
     "metadata": {},
     "output_type": "execute_result"
    }
   ],
   "source": [
    "Counter(df_mentions['Sentiment'])"
   ]
  },
  {
   "cell_type": "code",
   "execution_count": 67,
   "metadata": {},
   "outputs": [
    {
     "data": {
      "text/plain": [
       "(0, 3000)"
      ]
     },
     "execution_count": 67,
     "metadata": {},
     "output_type": "execute_result"
    },
    {
     "data": {
      "image/png": "[encoded data removed]",
      "text/plain": [
       "<Figure size 864x576 with 1 Axes>"
      ]
     },
     "metadata": {},
     "output_type": "display_data"
    }
   ],
   "source": [
    "sns.countplot(df_mentions['Sentiment'], order=['positive', 'negative', 'neutral'])\n",
    "plt.xlabel('Sentiment')\n",
    "plt.ylabel('Number of tweets')\n",
    "plt.title('Tweets mentioning @theRealTrump')\n",
    "plt.grid(False)\n",
    "plt.ylim(0, 3000)"
   ]
  },
  {
   "cell_type": "code",
   "execution_count": 68,
   "metadata": {},
   "outputs": [
    {
     "data": {
      "text/plain": [
       "Text(0.5, 1.0, \"Replies to Trump's tweets distribution\")"
      ]
     },
     "execution_count": 68,
     "metadata": {},
     "output_type": "execute_result"
    },
    {
     "data": {
      "image/png": "[encoded data removed]",
      "text/plain": [
       "<Figure size 864x576 with 1 Axes>"
      ]
     },
     "metadata": {},
     "output_type": "display_data"
    }
   ],
   "source": [
    "sns.distplot(df_mentions['compound'])\n",
    "plt.xlabel('Compound sentiment intensity')\n",
    "plt.title('Replies to Trump\\'s tweets distribution')"
   ]
  },
  {
   "cell_type": "code",
   "execution_count": 69,
   "metadata": {},
   "outputs": [
    {
     "data": {
      "text/html": [
       "<div>\n",
       "<style scoped>\n",
       "    .dataframe tbody tr th:only-of-type {\n",
       "        vertical-align: middle;\n",
       "    }\n",
       "\n",
       "    .dataframe tbody tr th {\n",
       "        vertical-align: top;\n",
       "    }\n",
       "\n",
       "    .dataframe thead th {\n",
       "        text-align: right;\n",
       "    }\n",
       "</style>\n",
       "<table border=\"1\" class=\"dataframe\">\n",
       "  <thead>\n",
       "    <tr style=\"text-align: right;\">\n",
       "      <th>Sentiment</th>\n",
       "      <th>negative</th>\n",
       "      <th>neutral</th>\n",
       "      <th>positive</th>\n",
       "    </tr>\n",
       "    <tr>\n",
       "      <th>Date</th>\n",
       "      <th></th>\n",
       "      <th></th>\n",
       "      <th></th>\n",
       "    </tr>\n",
       "  </thead>\n",
       "  <tbody>\n",
       "    <tr>\n",
       "      <th>2019-03-13 00:00:00+00:00</th>\n",
       "      <td>383</td>\n",
       "      <td>355</td>\n",
       "      <td>262</td>\n",
       "    </tr>\n",
       "    <tr>\n",
       "      <th>2019-03-14 00:00:00+00:00</th>\n",
       "      <td>271</td>\n",
       "      <td>443</td>\n",
       "      <td>286</td>\n",
       "    </tr>\n",
       "    <tr>\n",
       "      <th>2019-03-15 00:00:00+00:00</th>\n",
       "      <td>335</td>\n",
       "      <td>386</td>\n",
       "      <td>279</td>\n",
       "    </tr>\n",
       "    <tr>\n",
       "      <th>2019-03-16 00:00:00+00:00</th>\n",
       "      <td>379</td>\n",
       "      <td>360</td>\n",
       "      <td>261</td>\n",
       "    </tr>\n",
       "    <tr>\n",
       "      <th>2019-03-17 00:00:00+00:00</th>\n",
       "      <td>401</td>\n",
       "      <td>351</td>\n",
       "      <td>248</td>\n",
       "    </tr>\n",
       "  </tbody>\n",
       "</table>\n",
       "</div>"
      ],
      "text/plain": [
       "Sentiment                  negative  neutral  positive\n",
       "Date                                                  \n",
       "2019-03-13 00:00:00+00:00       383      355       262\n",
       "2019-03-14 00:00:00+00:00       271      443       286\n",
       "2019-03-15 00:00:00+00:00       335      386       279\n",
       "2019-03-16 00:00:00+00:00       379      360       261\n",
       "2019-03-17 00:00:00+00:00       401      351       248"
      ]
     },
     "execution_count": 69,
     "metadata": {},
     "output_type": "execute_result"
    }
   ],
   "source": [
    "df_mentions_plot = df_mentions.groupby(['Sentiment', 'Date']).size().reset_index().pivot(columns='Sentiment', index='Date', values=0)\n",
    "# df_plot['negative'] = df_plot['negative'] + 27\n",
    "# df_plot['neutral'] = df_plot['neutral'] + 27\n",
    "# df_plot['positive'] = df_plot['positive'] + 27\n",
    "df_mentions_plot.head()"
   ]
  },
  {
   "cell_type": "code",
   "execution_count": 70,
   "metadata": {},
   "outputs": [
    {
     "data": {
      "text/html": [
       "<div>\n",
       "<style scoped>\n",
       "    .dataframe tbody tr th:only-of-type {\n",
       "        vertical-align: middle;\n",
       "    }\n",
       "\n",
       "    .dataframe tbody tr th {\n",
       "        vertical-align: top;\n",
       "    }\n",
       "\n",
       "    .dataframe thead th {\n",
       "        text-align: right;\n",
       "    }\n",
       "</style>\n",
       "<table border=\"1\" class=\"dataframe\">\n",
       "  <thead>\n",
       "    <tr style=\"text-align: right;\">\n",
       "      <th>Sentiment</th>\n",
       "      <th>positive</th>\n",
       "      <th>negative</th>\n",
       "      <th>neutral</th>\n",
       "    </tr>\n",
       "    <tr>\n",
       "      <th>Date</th>\n",
       "      <th></th>\n",
       "      <th></th>\n",
       "      <th></th>\n",
       "    </tr>\n",
       "  </thead>\n",
       "  <tbody>\n",
       "    <tr>\n",
       "      <th>2019-03-13 00:00:00+00:00</th>\n",
       "      <td>262</td>\n",
       "      <td>383</td>\n",
       "      <td>355</td>\n",
       "    </tr>\n",
       "    <tr>\n",
       "      <th>2019-03-14 00:00:00+00:00</th>\n",
       "      <td>286</td>\n",
       "      <td>271</td>\n",
       "      <td>443</td>\n",
       "    </tr>\n",
       "    <tr>\n",
       "      <th>2019-03-15 00:00:00+00:00</th>\n",
       "      <td>279</td>\n",
       "      <td>335</td>\n",
       "      <td>386</td>\n",
       "    </tr>\n",
       "    <tr>\n",
       "      <th>2019-03-16 00:00:00+00:00</th>\n",
       "      <td>261</td>\n",
       "      <td>379</td>\n",
       "      <td>360</td>\n",
       "    </tr>\n",
       "    <tr>\n",
       "      <th>2019-03-17 00:00:00+00:00</th>\n",
       "      <td>248</td>\n",
       "      <td>401</td>\n",
       "      <td>351</td>\n",
       "    </tr>\n",
       "  </tbody>\n",
       "</table>\n",
       "</div>"
      ],
      "text/plain": [
       "Sentiment                  positive  negative  neutral\n",
       "Date                                                  \n",
       "2019-03-13 00:00:00+00:00       262       383      355\n",
       "2019-03-14 00:00:00+00:00       286       271      443\n",
       "2019-03-15 00:00:00+00:00       279       335      386\n",
       "2019-03-16 00:00:00+00:00       261       379      360\n",
       "2019-03-17 00:00:00+00:00       248       401      351"
      ]
     },
     "execution_count": 70,
     "metadata": {},
     "output_type": "execute_result"
    }
   ],
   "source": [
    "df_mentions_plot = df_mentions_plot[['positive', 'negative', 'neutral']]\n",
    "df_mentions_plot.head()"
   ]
  },
  {
   "cell_type": "code",
   "execution_count": 71,
   "metadata": {},
   "outputs": [
    {
     "data": {
      "text/plain": [
       "Text(0.5, 1.0, 'Negative mentions (7 days)')"
      ]
     },
     "execution_count": 71,
     "metadata": {},
     "output_type": "execute_result"
    },
    {
     "data": {
      "image/png": "[encoded data removed]",
      "text/plain": [
       "<Figure size 864x576 with 1 Axes>"
      ]
     },
     "metadata": {},
     "output_type": "display_data"
    }
   ],
   "source": [
    "df_mentions_plot['negative'].plot(kind='bar', color=sns.color_palette()[1])\n",
    "plt.tick_params(\n",
    "    axis='x',          # changes apply to the x-axis\n",
    "    which='both',      # both major and minor ticks are affected\n",
    "    bottom=False,      # ticks along the bottom edge are off\n",
    "    top=False,         # ticks along the top edge are off\n",
    "    labelbottom=False)\n",
    "plt.legend()\n",
    "plt.ylim(0, 500)\n",
    "plt.grid(False)\n",
    "plt.xlabel('Day')\n",
    "plt.title('Negative mentions (7 days)')"
   ]
  },
  {
   "cell_type": "code",
   "execution_count": 72,
   "metadata": {},
   "outputs": [
    {
     "data": {
      "text/plain": [
       "Text(0.5, 1.0, 'Positive mentions (7 days)')"
      ]
     },
     "execution_count": 72,
     "metadata": {},
     "output_type": "execute_result"
    },
    {
     "data": {
      "image/png": "[encoded data removed]",
      "text/plain": [
       "<Figure size 864x576 with 1 Axes>"
      ]
     },
     "metadata": {},
     "output_type": "display_data"
    }
   ],
   "source": [
    "df_mentions_plot['positive'].plot(kind='bar', color=sns.color_palette()[0])\n",
    "plt.tick_params(\n",
    "    axis='x',          # changes apply to the x-axis\n",
    "    which='both',      # both major and minor ticks are affected\n",
    "    bottom=False,      # ticks along the bottom edge are off\n",
    "    top=False,         # ticks along the top edge are off\n",
    "    labelbottom=False)\n",
    "plt.legend()\n",
    "plt.ylim(0, 500)\n",
    "plt.grid(False)\n",
    "plt.xlabel('Day')\n",
    "plt.title('Positive mentions (7 days)')"
   ]
  },
  {
   "cell_type": "markdown",
   "metadata": {},
   "source": [
    "## 3.4 Entities extraction"
   ]
  },
  {
   "cell_type": "code",
   "execution_count": 73,
   "metadata": {
    "scrolled": true
   },
   "outputs": [
    {
     "name": "stdout",
     "output_type": "stream",
     "text": [
      "Wall time: 56.8 s\n"
     ]
    }
   ],
   "source": [
    "%%time\n",
    "entities_mentions = text_processed_mentions.apply(lambda s: get_entities(s))\n",
    "entities_mentions = entities_mentions.apply(pd.Series)"
   ]
  },
  {
   "cell_type": "code",
   "execution_count": 74,
   "metadata": {
    "scrolled": true
   },
   "outputs": [
    {
     "data": {
      "text/html": [
       "<div>\n",
       "<style scoped>\n",
       "    .dataframe tbody tr th:only-of-type {\n",
       "        vertical-align: middle;\n",
       "    }\n",
       "\n",
       "    .dataframe tbody tr th {\n",
       "        vertical-align: top;\n",
       "    }\n",
       "\n",
       "    .dataframe thead th {\n",
       "        text-align: right;\n",
       "    }\n",
       "</style>\n",
       "<table border=\"1\" class=\"dataframe\">\n",
       "  <thead>\n",
       "    <tr style=\"text-align: right;\">\n",
       "      <th></th>\n",
       "      <th>Text</th>\n",
       "      <th>len</th>\n",
       "      <th>id</th>\n",
       "      <th>Date</th>\n",
       "      <th>Likes</th>\n",
       "      <th>RTs</th>\n",
       "      <th>neg</th>\n",
       "      <th>neu</th>\n",
       "      <th>pos</th>\n",
       "      <th>compound</th>\n",
       "      <th>...</th>\n",
       "      <th>ORDINAL</th>\n",
       "      <th>LOC</th>\n",
       "      <th>CARDINAL</th>\n",
       "      <th>MONEY</th>\n",
       "      <th>FAC</th>\n",
       "      <th>LANGUAGE</th>\n",
       "      <th>LAW</th>\n",
       "      <th>TIME</th>\n",
       "      <th>EVENT</th>\n",
       "      <th>PERCENT</th>\n",
       "    </tr>\n",
       "  </thead>\n",
       "  <tbody>\n",
       "    <tr>\n",
       "      <th>0</th>\n",
       "      <td>@realDonaldTrump Let’s focus on sex traffickin...</td>\n",
       "      <td>69</td>\n",
       "      <td>1105981867071848449</td>\n",
       "      <td>2019-03-13 00:00:00+00:00</td>\n",
       "      <td>0</td>\n",
       "      <td>0</td>\n",
       "      <td>0.000</td>\n",
       "      <td>0.763</td>\n",
       "      <td>0.237</td>\n",
       "      <td>0.4215</td>\n",
       "      <td>...</td>\n",
       "      <td>NaN</td>\n",
       "      <td>NaN</td>\n",
       "      <td>NaN</td>\n",
       "      <td>NaN</td>\n",
       "      <td>NaN</td>\n",
       "      <td>NaN</td>\n",
       "      <td>NaN</td>\n",
       "      <td>NaN</td>\n",
       "      <td>NaN</td>\n",
       "      <td>NaN</td>\n",
       "    </tr>\n",
       "    <tr>\n",
       "      <th>1</th>\n",
       "      <td>@realDonaldTrump I don't fly, it's just not na...</td>\n",
       "      <td>81</td>\n",
       "      <td>1105981865981345792</td>\n",
       "      <td>2019-03-13 00:00:00+00:00</td>\n",
       "      <td>0</td>\n",
       "      <td>0</td>\n",
       "      <td>0.150</td>\n",
       "      <td>0.850</td>\n",
       "      <td>0.000</td>\n",
       "      <td>-0.2755</td>\n",
       "      <td>...</td>\n",
       "      <td>NaN</td>\n",
       "      <td>NaN</td>\n",
       "      <td>NaN</td>\n",
       "      <td>NaN</td>\n",
       "      <td>NaN</td>\n",
       "      <td>NaN</td>\n",
       "      <td>NaN</td>\n",
       "      <td>NaN</td>\n",
       "      <td>NaN</td>\n",
       "      <td>NaN</td>\n",
       "    </tr>\n",
       "    <tr>\n",
       "      <th>2</th>\n",
       "      <td>@realDonaldTrump More lies from the dotard!</td>\n",
       "      <td>43</td>\n",
       "      <td>1105981864995680256</td>\n",
       "      <td>2019-03-13 00:00:00+00:00</td>\n",
       "      <td>2</td>\n",
       "      <td>0</td>\n",
       "      <td>0.404</td>\n",
       "      <td>0.596</td>\n",
       "      <td>0.000</td>\n",
       "      <td>-0.5244</td>\n",
       "      <td>...</td>\n",
       "      <td>NaN</td>\n",
       "      <td>NaN</td>\n",
       "      <td>NaN</td>\n",
       "      <td>NaN</td>\n",
       "      <td>NaN</td>\n",
       "      <td>NaN</td>\n",
       "      <td>NaN</td>\n",
       "      <td>NaN</td>\n",
       "      <td>NaN</td>\n",
       "      <td>NaN</td>\n",
       "    </tr>\n",
       "    <tr>\n",
       "      <th>3</th>\n",
       "      <td>@realDonaldTrump @POTUS @FoxNews You should do...</td>\n",
       "      <td>199</td>\n",
       "      <td>1105981864987246592</td>\n",
       "      <td>2019-03-13 00:00:00+00:00</td>\n",
       "      <td>0</td>\n",
       "      <td>0</td>\n",
       "      <td>0.072</td>\n",
       "      <td>0.694</td>\n",
       "      <td>0.234</td>\n",
       "      <td>0.6808</td>\n",
       "      <td>...</td>\n",
       "      <td>NaN</td>\n",
       "      <td>NaN</td>\n",
       "      <td>NaN</td>\n",
       "      <td>NaN</td>\n",
       "      <td>NaN</td>\n",
       "      <td>NaN</td>\n",
       "      <td>NaN</td>\n",
       "      <td>NaN</td>\n",
       "      <td>NaN</td>\n",
       "      <td>NaN</td>\n",
       "    </tr>\n",
       "    <tr>\n",
       "      <th>4</th>\n",
       "      <td>@realDonaldTrump @FoxNews You sound worried, t...</td>\n",
       "      <td>53</td>\n",
       "      <td>1105981862789505026</td>\n",
       "      <td>2019-03-13 00:00:00+00:00</td>\n",
       "      <td>0</td>\n",
       "      <td>0</td>\n",
       "      <td>0.545</td>\n",
       "      <td>0.455</td>\n",
       "      <td>0.000</td>\n",
       "      <td>-0.7177</td>\n",
       "      <td>...</td>\n",
       "      <td>NaN</td>\n",
       "      <td>NaN</td>\n",
       "      <td>NaN</td>\n",
       "      <td>NaN</td>\n",
       "      <td>NaN</td>\n",
       "      <td>NaN</td>\n",
       "      <td>NaN</td>\n",
       "      <td>NaN</td>\n",
       "      <td>NaN</td>\n",
       "      <td>NaN</td>\n",
       "    </tr>\n",
       "  </tbody>\n",
       "</table>\n",
       "<p>5 rows × 29 columns</p>\n",
       "</div>"
      ],
      "text/plain": [
       "                                                Text  len  \\\n",
       "0  @realDonaldTrump Let’s focus on sex traffickin...   69   \n",
       "1  @realDonaldTrump I don't fly, it's just not na...   81   \n",
       "2        @realDonaldTrump More lies from the dotard!   43   \n",
       "3  @realDonaldTrump @POTUS @FoxNews You should do...  199   \n",
       "4  @realDonaldTrump @FoxNews You sound worried, t...   53   \n",
       "\n",
       "                    id                      Date  Likes  RTs    neg    neu  \\\n",
       "0  1105981867071848449 2019-03-13 00:00:00+00:00      0    0  0.000  0.763   \n",
       "1  1105981865981345792 2019-03-13 00:00:00+00:00      0    0  0.150  0.850   \n",
       "2  1105981864995680256 2019-03-13 00:00:00+00:00      2    0  0.404  0.596   \n",
       "3  1105981864987246592 2019-03-13 00:00:00+00:00      0    0  0.072  0.694   \n",
       "4  1105981862789505026 2019-03-13 00:00:00+00:00      0    0  0.545  0.455   \n",
       "\n",
       "     pos  compound  ... ORDINAL  LOC  CARDINAL  MONEY  FAC  LANGUAGE  LAW  \\\n",
       "0  0.237    0.4215  ...     NaN  NaN       NaN    NaN  NaN       NaN  NaN   \n",
       "1  0.000   -0.2755  ...     NaN  NaN       NaN    NaN  NaN       NaN  NaN   \n",
       "2  0.000   -0.5244  ...     NaN  NaN       NaN    NaN  NaN       NaN  NaN   \n",
       "3  0.234    0.6808  ...     NaN  NaN       NaN    NaN  NaN       NaN  NaN   \n",
       "4  0.000   -0.7177  ...     NaN  NaN       NaN    NaN  NaN       NaN  NaN   \n",
       "\n",
       "   TIME  EVENT  PERCENT  \n",
       "0   NaN    NaN      NaN  \n",
       "1   NaN    NaN      NaN  \n",
       "2   NaN    NaN      NaN  \n",
       "3   NaN    NaN      NaN  \n",
       "4   NaN    NaN      NaN  \n",
       "\n",
       "[5 rows x 29 columns]"
      ]
     },
     "execution_count": 74,
     "metadata": {},
     "output_type": "execute_result"
    }
   ],
   "source": [
    "df_mentions = pd.concat([df_mentions, entities_mentions], axis=1)\n",
    "df_mentions.head()"
   ]
  },
  {
   "cell_type": "code",
   "execution_count": 75,
   "metadata": {},
   "outputs": [
    {
     "data": {
      "text/plain": [
       "Text(0.5, 1.0, 'Entities extracted from positive tweets mentioning Trump')"
      ]
     },
     "execution_count": 75,
     "metadata": {},
     "output_type": "execute_result"
    },
    {
     "data": {
      "image/png": "[encoded data removed]",
      "text/plain": [
       "<Figure size 864x576 with 1 Axes>"
      ]
     },
     "metadata": {},
     "output_type": "display_data"
    }
   ],
   "source": [
    "counters = {}\n",
    "df_mentions_plot = df_mentions.loc[df_mentions['Sentiment'] == 'positive']\n",
    "\n",
    "for column in entities_mentions.columns:\n",
    "    counters.update({column: df_mentions_plot[column].sum()})\n",
    "\n",
    "df_mentions_entities_distribution = pd.DataFrame.from_dict(counters, orient='index', columns=['Count']).sort_values(by='Count')\n",
    "\n",
    "sns.barplot(data=df_mentions_entities_distribution, x='Count', y=df_mentions_entities_distribution.index)\n",
    "plt.grid(False)\n",
    "plt.xlim(0,750)\n",
    "plt.title('Entities extracted from positive tweets mentioning Trump')"
   ]
  },
  {
   "cell_type": "code",
   "execution_count": 76,
   "metadata": {},
   "outputs": [
    {
     "data": {
      "text/plain": [
       "Text(0.5, 1.0, 'Entities extracted from negative tweets mentioning Trump')"
      ]
     },
     "execution_count": 76,
     "metadata": {},
     "output_type": "execute_result"
    },
    {
     "data": {
      "image/png": "[encoded data removed]",
      "text/plain": [
       "<Figure size 864x576 with 1 Axes>"
      ]
     },
     "metadata": {},
     "output_type": "display_data"
    }
   ],
   "source": [
    "counters = {}\n",
    "df_mentions_plot = df_mentions.loc[df_mentions['Sentiment'] == 'negative']\n",
    "\n",
    "for column in entities_mentions.columns:\n",
    "    counters.update({column: df_mentions_plot[column].sum()})\n",
    "\n",
    "df_mentions_entities_distribution = pd.DataFrame.from_dict(counters, orient='index', columns=['Count']).sort_values(by='Count')\n",
    "\n",
    "sns.barplot(data=df_mentions_entities_distribution, x='Count', y=df_mentions_entities_distribution.index)\n",
    "plt.grid(False)\n",
    "plt.xlim(0,750)\n",
    "plt.title('Entities extracted from negative tweets mentioning Trump')"
   ]
  },
  {
   "cell_type": "code",
   "execution_count": null,
   "metadata": {},
   "outputs": [],
   "source": []
  }
 ],
 "metadata": {
  "kernelspec": {
   "display_name": "Python 3",
   "language": "python",
   "name": "python3"
  },
  "language_info": {
   "codemirror_mode": {
    "name": "ipython",
    "version": 3
   },
   "file_extension": ".py",
   "mimetype": "text/x-python",
   "name": "python",
   "nbconvert_exporter": "python",
   "pygments_lexer": "ipython3",
   "version": "3.7.2"
  }
 },
 "nbformat": 4,
 "nbformat_minor": 2
}
